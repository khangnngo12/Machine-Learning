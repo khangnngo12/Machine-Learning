{
 "cells": [
  {
   "cell_type": "code",
   "execution_count": null,
   "metadata": {},
   "outputs": [],
   "source": [
    "%matplotlib inline\n",
    "import matplotlib.pyplot as plt\n",
    "import numpy as np\n",
    "import math\n",
    "import torch.nn\n",
    "import torch.optim\n",
    "import torch.utils.data"
   ]
  },
  {
   "cell_type": "markdown",
   "metadata": {},
   "source": [
    "### Display DataFrame"
   ]
  },
  {
   "cell_type": "code",
   "execution_count": null,
   "metadata": {},
   "outputs": [],
   "source": [
    "# Your code here\n",
    "import pandas as pd\n",
    "# Google Drive link incase Github link doesn't work\n",
    "GDrive_Link = \"https://drive.google.com/file/d/1ZJP3osriK0isJDyBlyqIhbZ1gvT2N4aH/view?usp=sharing\"\n",
    "print(\"Google Drive link incase GitHub link doesn't work:\")\n",
    "print(GDrive_Link)\n",
    "\n",
    "# Import CSV using raw Github link\n",
    "Github_Link = \"https://raw.githubusercontent.com/khangnngo12/Kinematics-of-M33/main/Redshift.csv\"\n",
    "df = pd.read_csv(Github_Link)\n",
    "print(\"CSV file containing velocities (km/s), RA, Dec, and other informations:\")\n",
    "df\n",
    "#raise NotImplementedError()"
   ]
  },
  {
   "cell_type": "markdown",
   "metadata": {},
   "source": [
    "### Display Velocity Map"
   ]
  },
  {
   "cell_type": "markdown",
   "metadata": {},
   "source": [
    "This section will display the velocity map with a fitted ellipse and two parabolas. The data points are created using RA and Dec, color-coded using its measured H-alpha velocities. The parabolas will divide the map into three areas: North, South, and Center. "
   ]
  },
  {
   "cell_type": "code",
   "execution_count": null,
   "metadata": {},
   "outputs": [],
   "source": [
    "center_RA = (1 + (33/60) + (51.75/3600))*15 #in deg\n",
    "center_Dec = (30 + (39/60) + (36.630/3600)) # in deg"
   ]
  },
  {
   "cell_type": "code",
   "execution_count": null,
   "metadata": {},
   "outputs": [],
   "source": [
    "def linear_func(x,m,b): #y=mx+b function\n",
    "    return (m*x)+b"
   ]
  },
  {
   "cell_type": "code",
   "execution_count": null,
   "metadata": {},
   "outputs": [],
   "source": [
    "def classification_func(RA,Dec):\n",
    "    \n",
    "    \"\"\"\n",
    "    Function to classified each point into North, South, and Center.\n",
    "    \n",
    "    Parameters\n",
    "    ----------\n",
    "    RA: ndarray,req\n",
    "        Containing RA values used in map\n",
    "    Dec: ndarray, req\n",
    "        Containing Dec values used in map\n",
    "        \n",
    "    Returns\n",
    "    ----------\n",
    "    NorthParabola: ndarray containing bools. True == Inside North parabola\n",
    "    SouthParabola: ndarray containing bools. True == Inside South parabola\n",
    "    Center: ndarray containing bools. True == Inside Center region\n",
    "    \"\"\"\n",
    "    \n",
    "    import cmath\n",
    "    theta = np.radians(-32)\n",
    "    \n",
    "    Dec_Val_NP_List = [] #list containing Dec values along North parabola\n",
    "    Dec_Val_SP_List = [] #list containing Dec values along South parabola\n",
    "    \n",
    "    for RA_Val in RA:\n",
    "    \n",
    "        # find a,b,c for quadratic formula\n",
    "        a_NorthPara = -0.5*np.sin(theta)\n",
    "        b_NorthPara = 0.5*np.cos(theta)\n",
    "        c_NorthPara = NorthPara_XCoor - RA_Val\n",
    "        \n",
    "        a_SouthPara = 0.5*np.sin(theta)\n",
    "        b_SouthPara = -0.5*np.cos(theta)\n",
    "        c_SouthPara = SouthPara_XCoor - RA_Val\n",
    "        \n",
    "        # calculate the discriminan\n",
    "        d_NorthPara = (b_NorthPara**2) - (4*a_NorthPara*c_NorthPara) \n",
    "        d_SouthPara = (b_SouthPara**2) - (4*a_SouthPara*c_SouthPara)\n",
    "        \n",
    "        t_NorthPara = (-b_NorthPara + cmath.sqrt(d_NorthPara))/(2*a_NorthPara) # find t for North Parabola (Notice the plus)\n",
    "        t_SouthPara = (-b_SouthPara - cmath.sqrt(d_SouthPara))/(2*a_SouthPara) # find t for South Parabola (Notice the subtract)\n",
    "        \n",
    "        Dec_Val_NorthPara = 0.5*(t_NorthPara*np.sin(theta) + (t_NorthPara**2)*np.cos(theta)) + NorthPara_YCoor #find corresponding Dec value using t\n",
    "        Dec_Val_NP_List.append(Dec_Val_NorthPara)\n",
    "        \n",
    "        Dec_Val_SouthPara = -0.5*(t_SouthPara*np.sin(theta) + (t_SouthPara**2)*np.cos(theta)) + SouthPara_YCoor\n",
    "        Dec_Val_SP_List.append(Dec_Val_SouthPara)\n",
    "        \n",
    "    NorthParabola = np.array(Dec-np.array(Dec_Val_NP_List) > 0)\n",
    "    SouthParabola = np.array(Dec-np.array(Dec_Val_SP_List) < 0)\n",
    "    Center = []\n",
    "    for index in range(len(RA)):\n",
    "        if NorthParabola[index] == False:\n",
    "            if SouthParabola[index] == False:\n",
    "                Center.append(True)\n",
    "            else:\n",
    "                Center.append(False)\n",
    "        else:\n",
    "            Center.append(False)\n",
    "    \n",
    "    return NorthParabola,SouthParabola,np.array(Center)"
   ]
  },
  {
   "cell_type": "code",
   "execution_count": null,
   "metadata": {},
   "outputs": [],
   "source": [
    "import math\n",
    "from math import pi, cos, sin\n",
    "\n",
    "# Get datapoints from CSV files. \n",
    "df_qop2_sorted = df[\"QOP\"] >= 2\n",
    "\n",
    "fig,ax = plt.subplots(1)\n",
    "ax.set_xlabel(\"Right Ascension (deg)\")\n",
    "ax.set_ylabel(\"Declination (deg)\")\n",
    "ax.set_title(\"M33 Velocity Color Map (QOP >= 2)\")\n",
    "ax.set_xlim(23.2,23.8)\n",
    "ax.set_ylim(30.15,30.9)\n",
    "ax.invert_xaxis()\n",
    "ax.set_aspect('equal')\n",
    "cc_map = ax.scatter(df[\"RA\"][df_qop2_sorted]\n",
    "                    ,df[\"DEC\"][df_qop2_sorted]\n",
    "                    ,c=df[\"Velocity (km/s)\"][df_qop2_sorted],s=7,cmap='magma')\n",
    "plt.colorbar(cc_map,label=\"Velocity (km/s)\")\n",
    "fig.set_figwidth(5)\n",
    "fig.set_figheight(5)\n",
    "plt.grid(True,linestyle=\"--\")\n",
    "\n",
    "#------------------------------\n",
    "\n",
    "#Fit Ellipse\n",
    "u= center_RA       #x-position of the center\n",
    "v= center_Dec    #y-position of the center\n",
    "a= 0.52     #radius on the x-axis\n",
    "b= 0.32      #radius on the y-axis\n",
    "t_rot=math.radians(58) #rotation angle\n",
    "\n",
    "t = np.linspace(0, 2*pi, 100)\n",
    "Ell = np.array([a*np.cos(t) , b*np.sin(t)])  \n",
    "     #u,v removed to keep the same center location\n",
    "R_rot = np.array([[cos(t_rot) , -sin(t_rot)],[sin(t_rot) , cos(t_rot)]])  \n",
    "     #2-D rotation matrix\n",
    "\n",
    "Ell_rot = np.zeros((2,Ell.shape[1]))\n",
    "for i in range(Ell.shape[1]):\n",
    "    Ell_rot[:,i] = np.dot(R_rot,Ell[:,i])\n",
    "\n",
    "plt.plot(u+Ell_rot[0,:] , v+Ell_rot[1,:],c='black',linewidth=0.8)    #rotated ellipse\n",
    "\n",
    "#Semi-minor Axis\n",
    "x_SMi_0 = center_RA + (b*cos(np.radians(32))) #x-coor of left Semi-minor axis point \n",
    "y_SMi_0 = center_Dec - (b*sin(np.radians(32))) #y-coor of left Semi-minor axis point\n",
    "x_SMi_1 = center_RA - (b*cos(np.radians(32))) #x-coor of right Semi-minor axis point\n",
    "y_SMi_1 = center_Dec + (b*sin(np.radians(32))) #y-coor of right Semi-minor axis point\n",
    "plt.scatter(x_SMi_0,y_SMi_0,s=15,c=\"black\")\n",
    "plt.scatter(x_SMi_1,y_SMi_1,s=15,c=\"black\")\n",
    "\n",
    "m_SMi = (y_SMi_1-y_SMi_0)/(x_SMi_1-x_SMi_0) #slope of line through Semi-minor axis \n",
    "b_SMi = y_SMi_0 - (m_SMi*x_SMi_0) #y-inter of line through Semi-minor axis\n",
    "x_SMi = np.linspace(x_SMi_1,x_SMi_0,1000) #x values of line through Semi-minor axis\n",
    "y_SMi = linear_func(x_SMi,m_SMi,b_SMi) #y values of line through Semi-minor axis\n",
    "plt.plot(x_SMi,y_SMi,c='black',linewidth=0.8,linestyle=\"--\")\n",
    "\n",
    "#Semi-major Axis\n",
    "x_SouthSMa = center_RA - (a*np.sin(np.radians(32))) #x-coor of North Semi-major axis point\n",
    "y_SouthSMa = center_Dec - (a*np.cos(np.radians(32))) #y-coor of Nouth Semi-major axis point\n",
    "x_NorthSMa = center_RA + (a*np.sin(np.radians(32))) #x-coor of South Semi-major axis point\n",
    "y_NorthSMa = center_Dec + (a*np.cos(np.radians(32))) #y-coor of South Semi-major axis point\n",
    "plt.scatter(x_NorthSMa,y_NorthSMa,c=\"black\",s=15)\n",
    "plt.scatter(x_SouthSMa,y_SouthSMa,c=\"black\",s=15)\n",
    "\n",
    "m_SMa = (y_NorthSMa-y_SouthSMa)/(x_NorthSMa-x_SouthSMa) #slope of line through Semi-major axis\n",
    "b_SMa = y_SouthSMa - (m_SMa*x_SouthSMa) #y-inter of line through Semi-major axis \n",
    "x_SMa = np.linspace(x_NorthSMa,x_SouthSMa,1000) #x values of line through Semi-major axis\n",
    "y_SMa = linear_func(x_SMa,m_SMa,b_SMa) #y values of line through Semi-major axis\n",
    "plt.plot(x_SMa,y_SMa,c='black',linewidth=0.8,linestyle=\"--\")\n",
    "\n",
    "NorthPara_XCoor = x_NorthSMa - ((19*a/20)*np.sin(np.radians(32))) #coordinates to move North parabola to\n",
    "NorthPara_YCoor = linear_func(NorthPara_XCoor,m_SMa,b_SMa)\n",
    "\n",
    "SouthPara_XCoor = x_SouthSMa + ((19*a/20)*np.sin(np.radians(32))) #coordinate to move South parabola to\n",
    "SouthPara_YCoor = linear_func(SouthPara_XCoor,m_SMa,b_SMa)\n",
    "\n",
    "#Fit Two Parabolas\n",
    "theta = np.radians(-32) #degrees to tilt parabolas\n",
    "t = np.linspace(-10,10,1000)\n",
    "#x = (0.5*t)*np.cos(theta) - (t**2)*np.sin(theta) + x_2\n",
    "#y = (0.5*t)*np.sin(theta) + (t**2)*np.cos(theta) + y_2\n",
    "x_NorthPara = 0.5*(t*np.cos(theta) - (t**2)*np.sin(theta)) + NorthPara_XCoor #x values of North parabola\n",
    "y_NorthPara = 0.5*(t*np.sin(theta) + (t**2)*np.cos(theta)) + NorthPara_YCoor #y values of North parabola\n",
    "plt.plot(x_NorthPara,y_NorthPara,c=\"blue\",linewidth=1,linestyle=\"--\")\n",
    "x_SouthPara = -0.5*(t*np.cos(theta) - (t**2)*np.sin(theta)) + SouthPara_XCoor #x values of South parabola\n",
    "y_SouthPara = -0.5*(t*np.sin(theta) + (t**2)*np.cos(theta)) + SouthPara_YCoor #y values of South parabola\n",
    "plt.plot(x_SouthPara,y_SouthPara,c=\"blue\",linewidth=1,linestyle=\"--\")\n",
    "\n",
    "fig.set_figwidth(5)\n",
    "fig.set_figheight(5)"
   ]
  },
  {
   "cell_type": "markdown",
   "metadata": {},
   "source": [
    "The codes below will classified each datapoint into one of the three regions. After it is all sorted, is plotted again but this time color-coded based on which region it belong to. "
   ]
  },
  {
   "cell_type": "code",
   "execution_count": null,
   "metadata": {},
   "outputs": [],
   "source": [
    "# Call classification function to sort each point.\n",
    "NorthParabola,SouthParabola,Center = classification_func(df[\"RA\"],df[\"DEC\"])"
   ]
  },
  {
   "cell_type": "code",
   "execution_count": null,
   "metadata": {},
   "outputs": [],
   "source": [
    "import math\n",
    "from math import pi, cos, sin\n",
    "\n",
    "#Display Data\n",
    "fig,ax = plt.subplots(1)\n",
    "ax.set_xlabel(\"Right Ascension (deg)\")\n",
    "ax.set_ylabel(\"Declination (deg)\")\n",
    "ax.set_title(\"Color Coded Map\")\n",
    "ax.set_xlim(23.2,23.8)\n",
    "ax.set_ylim(30.15,31)\n",
    "#ax.set_xlim(23,24)\n",
    "#ax.set_ylim(30.2,31.2)\n",
    "ax.invert_xaxis()\n",
    "#ax.set_aspect(1/0.861)\n",
    "ax.set_aspect(\"equal\")\n",
    "plt.grid(True,linestyle=\"--\")\n",
    "\n",
    "# Color code each regions\n",
    "ax.scatter(df[\"RA\"][NorthParabola],df[\"DEC\"][NorthParabola],s=7,c=\"red\",label=\"North\")\n",
    "ax.scatter(df[\"RA\"][SouthParabola],df[\"DEC\"][SouthParabola],s=7,c=\"blue\",label=\"South\")\n",
    "ax.scatter(df[\"RA\"][Center],df[\"DEC\"][Center],s=7,c=\"green\",label=\"Center\")\n",
    "plt.legend()\n",
    "\n",
    "#-------------------------------------\n",
    "\n",
    "#Fit Ellipse\n",
    "u= center_RA       #x-position of the center\n",
    "v= center_Dec    #y-position of the center\n",
    "a= 0.52     #radius on the x-axis\n",
    "b= 0.32      #radius on the y-axis\n",
    "t_rot=math.radians(58) #rotation angle\n",
    "\n",
    "t = np.linspace(0, 2*pi, 100)\n",
    "Ell = np.array([a*np.cos(t) , b*np.sin(t)])  \n",
    "     #u,v removed to keep the same center location\n",
    "R_rot = np.array([[cos(t_rot) , -sin(t_rot)],[sin(t_rot) , cos(t_rot)]])  \n",
    "     #2-D rotation matrix\n",
    "\n",
    "Ell_rot = np.zeros((2,Ell.shape[1]))\n",
    "for i in range(Ell.shape[1]):\n",
    "    Ell_rot[:,i] = np.dot(R_rot,Ell[:,i])\n",
    "\n",
    "plt.plot(u+Ell_rot[0,:] , v+Ell_rot[1,:],c='black',linewidth=0.8)    #rotated ellipse\n",
    "\n",
    "#Semi-minor Axis\n",
    "x_SMi_0 = center_RA + (b*cos(np.radians(32))) #x-coor of left Semi-minor axis point \n",
    "y_SMi_0 = center_Dec - (b*sin(np.radians(32))) #y-coor of left Semi-minor axis point\n",
    "x_SMi_1 = center_RA - (b*cos(np.radians(32))) #x-coor of right Semi-minor axis point\n",
    "y_SMi_1 = center_Dec + (b*sin(np.radians(32))) #y-coor of right Semi-minor axis point\n",
    "plt.scatter(x_SMi_0,y_SMi_0,s=15,c=\"black\")\n",
    "plt.scatter(x_SMi_1,y_SMi_1,s=15,c=\"black\")\n",
    "\n",
    "m_SMi = (y_SMi_1-y_SMi_0)/(x_SMi_1-x_SMi_0) #slope of line through Semi-minor axis \n",
    "b_SMi = y_SMi_0 - (m_SMi*x_SMi_0) #y-inter of line through Semi-minor axis\n",
    "x_SMi = np.linspace(x_SMi_1,x_SMi_0,1000) #x values of line through Semi-minor axis\n",
    "y_SMi = linear_func(x_SMi,m_SMi,b_SMi) #y values of line through Semi-minor axis\n",
    "plt.plot(x_SMi,y_SMi,c='black',linewidth=0.8,linestyle=\"--\")\n",
    "\n",
    "#Semi-major Axis\n",
    "x_SouthSMa = center_RA - (a*np.sin(np.radians(32))) #x-coor of North Semi-major axis point\n",
    "y_SouthSMa = center_Dec - (a*np.cos(np.radians(32))) #y-coor of Nouth Semi-major axis point\n",
    "x_NorthSMa = center_RA + (a*np.sin(np.radians(32))) #x-coor of South Semi-major axis point\n",
    "y_NorthSMa = center_Dec + (a*np.cos(np.radians(32))) #y-coor of South Semi-major axis point\n",
    "plt.scatter(x_NorthSMa,y_NorthSMa,c=\"black\",s=15)\n",
    "plt.scatter(x_SouthSMa,y_SouthSMa,c=\"black\",s=15)\n",
    "\n",
    "m_SMa = (y_NorthSMa-y_SouthSMa)/(x_NorthSMa-x_SouthSMa) #slope of line through Semi-major axis\n",
    "b_SMa = y_SouthSMa - (m_SMa*x_SouthSMa) #y-inter of line through Semi-major axis \n",
    "x_SMa = np.linspace(x_NorthSMa,x_SouthSMa,1000) #x values of line through Semi-major axis\n",
    "y_SMa = linear_func(x_SMa,m_SMa,b_SMa) #y values of line through Semi-major axis\n",
    "plt.plot(x_SMa,y_SMa,c='black',linewidth=0.8,linestyle=\"--\")\n",
    "\n",
    "NorthPara_XCoor = x_NorthSMa - ((19*a/20)*np.sin(np.radians(32))) #coordinates to move North parabola to\n",
    "NorthPara_YCoor = linear_func(NorthPara_XCoor,m_SMa,b_SMa)\n",
    "\n",
    "SouthPara_XCoor = x_SouthSMa + ((19*a/20)*np.sin(np.radians(32))) #coordinate to move South parabola to\n",
    "SouthPara_YCoor = linear_func(SouthPara_XCoor,m_SMa,b_SMa)\n",
    "\n",
    "#Fit Two Parabolas\n",
    "theta = np.radians(-32) #degrees to tilt parabolas\n",
    "t = np.linspace(-10,10,1000)\n",
    "#x = (0.5*t)*np.cos(theta) - (t**2)*np.sin(theta) + x_2\n",
    "#y = (0.5*t)*np.sin(theta) + (t**2)*np.cos(theta) + y_2\n",
    "x_NorthPara = 0.5*(t*np.cos(theta) - (t**2)*np.sin(theta)) + NorthPara_XCoor #x values of North parabola\n",
    "y_NorthPara = 0.5*(t*np.sin(theta) + (t**2)*np.cos(theta)) + NorthPara_YCoor #y values of North parabola\n",
    "plt.plot(x_NorthPara,y_NorthPara,c=\"blue\",linewidth=1,linestyle=\"--\")\n",
    "x_SouthPara = -0.5*(t*np.cos(theta) - (t**2)*np.sin(theta)) + SouthPara_XCoor #x values of South parabola\n",
    "y_SouthPara = -0.5*(t*np.sin(theta) + (t**2)*np.cos(theta)) + SouthPara_YCoor #y values of South parabola\n",
    "plt.plot(x_SouthPara,y_SouthPara,c=\"blue\",linewidth=1,linestyle=\"--\")\n",
    "\n",
    "fig.set_figwidth(5)\n",
    "fig.set_figheight(5)"
   ]
  },
  {
   "cell_type": "markdown",
   "metadata": {},
   "source": [
    "### Histograms Using Velocity"
   ]
  },
  {
   "cell_type": "code",
   "execution_count": null,
   "metadata": {},
   "outputs": [],
   "source": [
    "fig,ax = plt.subplots(3)\n",
    "ax[0].hist(df[\"Velocity (km/s)\"][NorthParabola])\n",
    "ax[0].set_xlabel(\"Velocity (km/s)\")\n",
    "\n",
    "ax[1].hist(df[\"Velocity (km/s)\"][SouthParabola])\n",
    "ax[1].set_xlabel(\"Velocity (km/s)\")\n",
    "\n",
    "ax[2].hist(df[\"Velocity (km/s)\"][Center])\n",
    "ax[2].set_xlabel(\"Velocity (km/s)\")\n",
    "\n",
    "fig.tight_layout()"
   ]
  },
  {
   "cell_type": "markdown",
   "metadata": {},
   "source": [
    "### Representing N,S,C as 0,1,2"
   ]
  },
  {
   "cell_type": "code",
   "execution_count": null,
   "metadata": {},
   "outputs": [],
   "source": [
    "def y_train():\n",
    "    \n",
    "    \"\"\"\n",
    "    Assign each datapoint a value based on its location\n",
    "    0 = North, 1 = Center, 2 = South\n",
    "    \n",
    "    Returns\n",
    "    ----------\n",
    "    y_train: ndarray containing 0,1,2 corresponing to zones.\n",
    "    \"\"\"\n",
    "    \n",
    "    y_train = []\n",
    "    for index in np.arange(len(df[\"Velocity (km/s)\"])):\n",
    "        if index in np.where(NorthParabola==True)[0]:\n",
    "            y_train.append(0)\n",
    "        elif index in np.where(SouthParabola==True)[0]:\n",
    "            y_train.append(2)\n",
    "        else:\n",
    "            y_train.append(1)\n",
    "    \n",
    "    return np.array(y_train)"
   ]
  },
  {
   "cell_type": "code",
   "execution_count": null,
   "metadata": {},
   "outputs": [],
   "source": [
    "true_val = y_train() "
   ]
  },
  {
   "cell_type": "code",
   "execution_count": null,
   "metadata": {},
   "outputs": [],
   "source": [
    "print('Display TRUE results used to train the program:')\n",
    "print(*true_val)"
   ]
  },
  {
   "cell_type": "markdown",
   "metadata": {},
   "source": [
    "### NN"
   ]
  },
  {
   "cell_type": "code",
   "execution_count": null,
   "metadata": {},
   "outputs": [],
   "source": [
    "#1688 datapoints\n",
    "#1400 for training, 288 for testing\n",
    "x_train = np.array([df[\"RA\"][:1400],df[\"DEC\"][:1400]]).T\n",
    "y_train = np.array(true_val[:1400],dtype=\"float\")\n",
    "x_test = np.array([df[\"RA\"][1400:1689],df[\"DEC\"][1400:1869]]).T\n",
    "y_test = np.array(true_val[1400:1689],dtype=\"float\")"
   ]
  },
  {
   "cell_type": "code",
   "execution_count": null,
   "metadata": {},
   "outputs": [],
   "source": [
    "x_train = torch.Tensor(x_train) #ndarray to tensor\n",
    "y_train = torch.Tensor(y_train) #ndarray to tensor\n",
    "x_test = torch.Tensor(x_test) #ndarray to tensor\n",
    "y_test = torch.Tensor(y_test) #ndarray to tensor"
   ]
  },
  {
   "cell_type": "code",
   "execution_count": null,
   "metadata": {},
   "outputs": [],
   "source": [
    "#Set up network, loss function, and optimizer\n",
    "net = torch.nn.Sequential(torch.nn.Linear(2, 30),\n",
    "    torch.nn.ReLU(),\n",
    "    torch.nn.Linear(30, 40),\n",
    "    torch.nn.ReLU(),\n",
    "    torch.nn.Linear(40, 1),\n",
    ") \n",
    "\n",
    "torch.save(net.state_dict(), 'net_FP.pth')\n",
    "\n",
    "loss_func = torch.nn.MSELoss()\n",
    "optimizer = torch.optim.SGD(net.parameters(),lr=0.05,momentum=0.9)\n",
    "#loss_func = torch.nn.CrossEntropyLoss()\n",
    "#optimizer = torch.optim.Adam(net.parameters(),lr=0.05)"
   ]
  },
  {
   "cell_type": "code",
   "execution_count": null,
   "metadata": {},
   "outputs": [],
   "source": [
    "#Pack data\n",
    "xy_train = torch.utils.data.TensorDataset(x_train, y_train)\n",
    "xy_test = torch.utils.data.TensorDataset(x_test, y_test)\n",
    "\n",
    "#Unpack data\n",
    "loader = torch.utils.data.DataLoader(xy_train, batch_size=200, shuffle=True)"
   ]
  },
  {
   "cell_type": "code",
   "execution_count": null,
   "metadata": {},
   "outputs": [],
   "source": [
    "losses_train, losses_test = [],[]\n",
    "for epoch in np.arange(200):\n",
    "    for x_batch,y_batch in loader:\n",
    "        net.train() \n",
    "        #y_batch = y_batch.type(torch.LongTensor)\n",
    "        #x_batch = x_batch.type(torch.LongTensor)\n",
    "        y_pred = net(x_batch)\n",
    "        loss = loss_func(y_pred,y_batch)\n",
    "        optimizer.zero_grad()\n",
    "        loss.backward()\n",
    "        optimizer.step()\n",
    "    losses_train.append(loss.data)\n",
    "        \n",
    "    net.eval()\n",
    "    y_test = y_test.type(torch.LongTensor)\n",
    "    y_pred = net(x_test)\n",
    "    loss = loss_func(y_pred,y_test)\n",
    "    losses_test.append(loss.data)"
   ]
  },
  {
   "cell_type": "code",
   "execution_count": null,
   "metadata": {},
   "outputs": [],
   "source": [
    "plt.plot(losses_train, '.', label=\"TRAIN (B=200,L.R.=0.1)\")\n",
    "plt.plot(losses_test, '.',label=\"TEST\")\n",
    "plt.legend()\n",
    "plt.xlabel('Training Epoch')\n",
    "plt.ylabel('CrossEntropyLoss')\n",
    "plt.title(\"Loss vs Epoch\")\n",
    "plt.yscale('log')"
   ]
  },
  {
   "cell_type": "code",
   "execution_count": null,
   "metadata": {},
   "outputs": [],
   "source": [
    "y_pred = net(x_test)"
   ]
  },
  {
   "cell_type": "code",
   "execution_count": null,
   "metadata": {},
   "outputs": [],
   "source": [
    "y_pred"
   ]
  },
  {
   "cell_type": "code",
   "execution_count": null,
   "metadata": {},
   "outputs": [],
   "source": [
    "y_test"
   ]
  },
  {
   "cell_type": "markdown",
   "metadata": {},
   "source": [
    "### Possible X-Train, X-Test, Y-Test? "
   ]
  },
  {
   "cell_type": "markdown",
   "metadata": {},
   "source": [
    "I'm still unsure about what I can use as the x-train, x-test, and y-test. I'm just trying out different possibilities here. "
   ]
  },
  {
   "cell_type": "markdown",
   "metadata": {},
   "source": [
    "One possible x-train I'm thinking about is to select two Dec values and classified each datapoint based on those Dec values then shuffle it. Then train it using y-train."
   ]
  },
  {
   "cell_type": "code",
   "execution_count": null,
   "metadata": {},
   "outputs": [],
   "source": [
    "import random\n",
    "lim_0 = 30.5 #1st limit\n",
    "lim_1 = 30.7 #2nd limit\n",
    "x_train = []\n",
    "for Dec in df[\"DEC\"]:\n",
    "    if Dec > lim_1:\n",
    "        x_train.append(0)\n",
    "    elif Dec < lim_0:\n",
    "        x_train.append(2)\n",
    "    else:\n",
    "        x_train.append(1)\n",
    "random.shuffle(x_train)"
   ]
  },
  {
   "cell_type": "code",
   "execution_count": null,
   "metadata": {},
   "outputs": [],
   "source": [
    "import math\n",
    "from math import pi, cos, sin\n",
    "\n",
    "#Display Data\n",
    "fig,ax = plt.subplots(1)\n",
    "ax.set_xlabel(\"Right Ascension (deg)\")\n",
    "ax.set_ylabel(\"Declination (deg)\")\n",
    "ax.set_title(\"Randomized\")\n",
    "ax.set_xlim(23.2,23.8)\n",
    "ax.set_ylim(30.15,31)\n",
    "#ax.set_xlim(23,24)\n",
    "#ax.set_ylim(30.2,31.2)\n",
    "ax.invert_xaxis()\n",
    "#ax.set_aspect(1/0.861)\n",
    "ax.set_aspect(\"equal\")\n",
    "plt.grid(True,linestyle=\"--\")\n",
    "\n",
    "# Color code each regions\n",
    "ax.scatter(df[\"RA\"][np.where(np.array(x_train)==0)[0]],df[\"DEC\"][np.where(np.array(x_train)==0)[0]],s=7,c=\"red\",label=\"North\")\n",
    "ax.scatter(df[\"RA\"][np.where(np.array(x_train)==1)[0]],df[\"DEC\"][np.where(np.array(x_train)==1)[0]],s=7,c=\"blue\",label=\"South\")\n",
    "ax.scatter(df[\"RA\"][np.where(np.array(x_train)==2)[0]],df[\"DEC\"][np.where(np.array(x_train)==2)[0]],s=7,c=\"green\",label=\"Center\")\n",
    "plt.legend()\n",
    "\n",
    "#-------------------------------------\n",
    "\n",
    "#Fit Ellipse\n",
    "u= center_RA       #x-position of the center\n",
    "v= center_Dec    #y-position of the center\n",
    "a= 0.52     #radius on the x-axis\n",
    "b= 0.32      #radius on the y-axis\n",
    "t_rot=math.radians(58) #rotation angle\n",
    "\n",
    "t = np.linspace(0, 2*pi, 100)\n",
    "Ell = np.array([a*np.cos(t) , b*np.sin(t)])  \n",
    "     #u,v removed to keep the same center location\n",
    "R_rot = np.array([[cos(t_rot) , -sin(t_rot)],[sin(t_rot) , cos(t_rot)]])  \n",
    "     #2-D rotation matrix\n",
    "\n",
    "Ell_rot = np.zeros((2,Ell.shape[1]))\n",
    "for i in range(Ell.shape[1]):\n",
    "    Ell_rot[:,i] = np.dot(R_rot,Ell[:,i])\n",
    "\n",
    "plt.plot(u+Ell_rot[0,:] , v+Ell_rot[1,:],c='black',linewidth=0.8)    #rotated ellipse\n",
    "\n",
    "#Semi-minor Axis\n",
    "x_SMi_0 = center_RA + (b*cos(np.radians(32))) #x-coor of left Semi-minor axis point \n",
    "y_SMi_0 = center_Dec - (b*sin(np.radians(32))) #y-coor of left Semi-minor axis point\n",
    "x_SMi_1 = center_RA - (b*cos(np.radians(32))) #x-coor of right Semi-minor axis point\n",
    "y_SMi_1 = center_Dec + (b*sin(np.radians(32))) #y-coor of right Semi-minor axis point\n",
    "plt.scatter(x_SMi_0,y_SMi_0,s=15,c=\"black\")\n",
    "plt.scatter(x_SMi_1,y_SMi_1,s=15,c=\"black\")\n",
    "\n",
    "m_SMi = (y_SMi_1-y_SMi_0)/(x_SMi_1-x_SMi_0) #slope of line through Semi-minor axis \n",
    "b_SMi = y_SMi_0 - (m_SMi*x_SMi_0) #y-inter of line through Semi-minor axis\n",
    "x_SMi = np.linspace(x_SMi_1,x_SMi_0,1000) #x values of line through Semi-minor axis\n",
    "y_SMi = linear_func(x_SMi,m_SMi,b_SMi) #y values of line through Semi-minor axis\n",
    "plt.plot(x_SMi,y_SMi,c='black',linewidth=0.8,linestyle=\"--\")\n",
    "\n",
    "#Semi-major Axis\n",
    "x_SouthSMa = center_RA - (a*np.sin(np.radians(32))) #x-coor of North Semi-major axis point\n",
    "y_SouthSMa = center_Dec - (a*np.cos(np.radians(32))) #y-coor of Nouth Semi-major axis point\n",
    "x_NorthSMa = center_RA + (a*np.sin(np.radians(32))) #x-coor of South Semi-major axis point\n",
    "y_NorthSMa = center_Dec + (a*np.cos(np.radians(32))) #y-coor of South Semi-major axis point\n",
    "plt.scatter(x_NorthSMa,y_NorthSMa,c=\"black\",s=15)\n",
    "plt.scatter(x_SouthSMa,y_SouthSMa,c=\"black\",s=15)\n",
    "\n",
    "m_SMa = (y_NorthSMa-y_SouthSMa)/(x_NorthSMa-x_SouthSMa) #slope of line through Semi-major axis\n",
    "b_SMa = y_SouthSMa - (m_SMa*x_SouthSMa) #y-inter of line through Semi-major axis \n",
    "x_SMa = np.linspace(x_NorthSMa,x_SouthSMa,1000) #x values of line through Semi-major axis\n",
    "y_SMa = linear_func(x_SMa,m_SMa,b_SMa) #y values of line through Semi-major axis\n",
    "plt.plot(x_SMa,y_SMa,c='black',linewidth=0.8,linestyle=\"--\")\n",
    "\n",
    "NorthPara_XCoor = x_NorthSMa - ((19*a/20)*np.sin(np.radians(32))) #coordinates to move North parabola to\n",
    "NorthPara_YCoor = linear_func(NorthPara_XCoor,m_SMa,b_SMa)\n",
    "\n",
    "SouthPara_XCoor = x_SouthSMa + ((19*a/20)*np.sin(np.radians(32))) #coordinate to move South parabola to\n",
    "SouthPara_YCoor = linear_func(SouthPara_XCoor,m_SMa,b_SMa)\n",
    "\n",
    "#Define two limits\n",
    "plt.hlines(30.5,23.2,23.8,linestyle=\"--\",linewidth=1)\n",
    "plt.hlines(30.7,23.2,23.8,linestyle=\"--\",linewidth=1)\n",
    "\n",
    "fig.set_figwidth(5)\n",
    "fig.set_figheight(5)"
   ]
  },
  {
   "cell_type": "markdown",
   "metadata": {},
   "source": [
    "Would I just take a subset of x_train and y_train and use them as x_test and y_test? "
   ]
  },
  {
   "cell_type": "code",
   "execution_count": null,
   "metadata": {},
   "outputs": [],
   "source": [
    "x_test = x_train[800:1000] #Possible x_test?\n",
    "y_test = y_train[800:1000] #Possible y_test?"
   ]
  },
  {
   "cell_type": "code",
   "execution_count": null,
   "metadata": {},
   "outputs": [],
   "source": []
  }
 ],
 "metadata": {
  "kernelspec": {
   "display_name": "Python 3",
   "language": "python",
   "name": "python3"
  },
  "language_info": {
   "codemirror_mode": {
    "name": "ipython",
    "version": 3
   },
   "file_extension": ".py",
   "mimetype": "text/x-python",
   "name": "python",
   "nbconvert_exporter": "python",
   "pygments_lexer": "ipython3",
   "version": "3.7.6"
  }
 },
 "nbformat": 4,
 "nbformat_minor": 4
}
