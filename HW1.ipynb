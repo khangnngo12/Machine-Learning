{
 "cells": [
  {
   "cell_type": "markdown",
   "metadata": {
    "id": "qyzlOAYz0abj"
   },
   "source": [
    "# Homework 1"
   ]
  },
  {
   "cell_type": "markdown",
   "metadata": {
    "id": "-lLt3FGv0flg"
   },
   "source": [
    "We'll use the first assignment to make sure everyone is comfortable with some basic python.  We'll be doing all of our HW assignments in Jupyter notebooks, and submitting assigments by committing notebooks to your own gitlab repository (that you've shared with me).  "
   ]
  },
  {
   "cell_type": "markdown",
   "metadata": {
    "id": "e-r3fsIX04yh"
   },
   "source": [
    "The first part of a notebook should always be the libraries we'll use in the rest of the notebook.  We include them at the top so we know what packages we may need to download and/or install."
   ]
  },
  {
   "cell_type": "code",
   "execution_count": 3,
   "metadata": {
    "id": "SwhoQCFTzC6w"
   },
   "outputs": [],
   "source": [
    "%matplotlib inline\n",
    "import matplotlib.pyplot as plt\n",
    "import numpy as np\n",
    "import matplotlib as mpl\n",
    "import math"
   ]
  },
  {
   "cell_type": "markdown",
   "metadata": {
    "id": "rrGmoc891CtF"
   },
   "source": [
    "If we're working in Google Colab, we'll also want to give Colab access to our Google Drive space, so that we can get other python code, data files, and other things that may be needed as part of the assignment.  Executing the cell below should open a browser window that prompts you to connect the notebook to Google Drive."
   ]
  },
  {
   "cell_type": "code",
   "execution_count": null,
   "metadata": {
    "colab": {
     "base_uri": "https://localhost:8080/"
    },
    "executionInfo": {
     "elapsed": 20486,
     "status": "ok",
     "timestamp": 1649572011942,
     "user": {
      "displayName": "Khang Ngo",
      "userId": "14859771996971615067"
     },
     "user_tz": 420
    },
    "id": "rsxrVKD31PvC",
    "outputId": "33028c0e-f06e-4055-f16e-14b4aa53638f"
   },
   "outputs": [],
   "source": [
    "try:\n",
    "  import google.colab\n",
    "  IN_COLAB = True\n",
    "except:\n",
    "  IN_COLAB = False\n",
    "\n",
    "if IN_COLAB:\n",
    "  from google.colab import drive\n",
    "  drive.mount('/content/gdrive')"
   ]
  },
  {
   "cell_type": "markdown",
   "metadata": {
    "id": "7NwF0GKe1q0Q"
   },
   "source": [
    "We should see \"Mounted at /content/gdrive\" above if everything worked.  Now try to create a file, put something into it, check that it worked, then remove the file:"
   ]
  },
  {
   "cell_type": "code",
   "execution_count": null,
   "metadata": {
    "colab": {
     "base_uri": "https://localhost:8080/"
    },
    "executionInfo": {
     "elapsed": 792,
     "status": "ok",
     "timestamp": 1649572054303,
     "user": {
      "displayName": "Khang Ngo",
      "userId": "14859771996971615067"
     },
     "user_tz": 420
    },
    "id": "tPBncQh-16x8",
    "outputId": "bd1fec07-092c-4d17-c388-d6261058f4e4"
   },
   "outputs": [],
   "source": [
    "if IN_COLAB:\n",
    "    !echo \"PHYS 152 is the best!\" > myHW1test.txt    # Create a new file that contains some text\n",
    "    !ls .                                            # Check that the file was created\n",
    "    !cat myHW1test.txt                               # Look at the contents of the file\n",
    "    !rm myHW1test.txt                                # Remove the file\n",
    "    !ls .                                            # Check that the file was removed"
   ]
  },
  {
   "cell_type": "markdown",
   "metadata": {
    "id": "pdp0bMb4Ok3e"
   },
   "source": [
    "# Some Basics"
   ]
  },
  {
   "cell_type": "markdown",
   "metadata": {
    "id": "HJDhYejEzTq1"
   },
   "source": [
    "First let's go through some basics of python, numpy, and plotting.  I assume a basic familiarity with python, so we'll start right up with numerical methods.\n"
   ]
  },
  {
   "cell_type": "code",
   "execution_count": 2,
   "metadata": {
    "id": "4OSB15pjzePo"
   },
   "outputs": [],
   "source": [
    "def create_python_array(n=100):\n",
    "    y = []\n",
    "    for x in range(n):\n",
    "        y.append(math.sin(math.pi * x / n))\n",
    "    return y"
   ]
  },
  {
   "cell_type": "code",
   "execution_count": 3,
   "metadata": {
    "colab": {
     "base_uri": "https://localhost:8080/"
    },
    "executionInfo": {
     "elapsed": 637,
     "status": "ok",
     "timestamp": 1649572060597,
     "user": {
      "displayName": "Khang Ngo",
      "userId": "14859771996971615067"
     },
     "user_tz": 420
    },
    "id": "_cd_OsUb3tby",
    "outputId": "c5b8a78e-e478-4bb2-b573-eaab3e83f40f"
   },
   "outputs": [
    {
     "name": "stdout",
     "output_type": "stream",
     "text": [
      "CPU times: user 257 ms, sys: 22.6 ms, total: 279 ms\n",
      "Wall time: 282 ms\n"
     ]
    }
   ],
   "source": [
    "%time y1=create_python_array(int(1e6))"
   ]
  },
  {
   "cell_type": "markdown",
   "metadata": {
    "id": "E6XwRGCK4Y4v"
   },
   "source": [
    "This gives us a list of values, which can be manipulated in all sorts of crazy ways:"
   ]
  },
  {
   "cell_type": "code",
   "execution_count": 4,
   "metadata": {
    "id": "KDmtux9e30rQ"
   },
   "outputs": [],
   "source": [
    "y1[2]=\"This is not a number\"\n",
    "y1.append(-1)"
   ]
  },
  {
   "cell_type": "markdown",
   "metadata": {
    "id": "FtM18ZiP47Uf"
   },
   "source": [
    "Now let's do something similar with numpy arrays:"
   ]
  },
  {
   "cell_type": "code",
   "execution_count": 5,
   "metadata": {
    "id": "ctkKKGde4RPP"
   },
   "outputs": [],
   "source": [
    "def create_numpy_array(n=100):\n",
    "    x = np.arange(n)\n",
    "    y = np.sin(np.pi * x / n)\n",
    "    return x,y"
   ]
  },
  {
   "cell_type": "code",
   "execution_count": 6,
   "metadata": {
    "colab": {
     "base_uri": "https://localhost:8080/"
    },
    "executionInfo": {
     "elapsed": 195,
     "status": "ok",
     "timestamp": 1649572062028,
     "user": {
      "displayName": "Khang Ngo",
      "userId": "14859771996971615067"
     },
     "user_tz": 420
    },
    "id": "to_X-vLr55M2",
    "outputId": "7e96ee42-9d8b-46b6-bd51-8e63bc52034c"
   },
   "outputs": [
    {
     "name": "stdout",
     "output_type": "stream",
     "text": [
      "CPU times: user 22.2 ms, sys: 10.7 ms, total: 32.9 ms\n",
      "Wall time: 31.6 ms\n"
     ]
    }
   ],
   "source": [
    "%time x,y2=create_numpy_array(int(1e6))"
   ]
  },
  {
   "cell_type": "markdown",
   "metadata": {
    "id": "R_5qF_th6HN-"
   },
   "source": [
    "This went much faster, and now this structure can only hold numbers.  Note the use of `np.arange(n)`, which made an array integers from `0` to `n-1`:"
   ]
  },
  {
   "cell_type": "code",
   "execution_count": 7,
   "metadata": {
    "colab": {
     "base_uri": "https://localhost:8080/"
    },
    "executionInfo": {
     "elapsed": 10,
     "status": "ok",
     "timestamp": 1649572062029,
     "user": {
      "displayName": "Khang Ngo",
      "userId": "14859771996971615067"
     },
     "user_tz": 420
    },
    "id": "XIukkmFf6Csp",
    "outputId": "c1de3c10-ee50-4ce8-a69c-efa5746c0901"
   },
   "outputs": [
    {
     "data": {
      "text/plain": [
       "array([0, 1, 2, 3, 4, 5, 6, 7, 8, 9])"
      ]
     },
     "execution_count": 7,
     "metadata": {},
     "output_type": "execute_result"
    }
   ],
   "source": [
    "np.arange(10)"
   ]
  },
  {
   "cell_type": "markdown",
   "metadata": {
    "id": "R_X90AHU6kPc"
   },
   "source": [
    "We can use `np.linspace` to create an array of floats with some constant spacing.  Note it takes 11 steps to go from 0 to 1.0 (inclusive) in steps of 0.1!"
   ]
  },
  {
   "cell_type": "code",
   "execution_count": 8,
   "metadata": {
    "colab": {
     "base_uri": "https://localhost:8080/"
    },
    "executionInfo": {
     "elapsed": 604,
     "status": "ok",
     "timestamp": 1649572062627,
     "user": {
      "displayName": "Khang Ngo",
      "userId": "14859771996971615067"
     },
     "user_tz": 420
    },
    "id": "gAk_KzD76fPJ",
    "outputId": "996f70ba-9402-467a-a5b5-c44c9a7eb1cb"
   },
   "outputs": [
    {
     "data": {
      "text/plain": [
       "array([0. , 0.1, 0.2, 0.3, 0.4, 0.5, 0.6, 0.7, 0.8, 0.9, 1. ])"
      ]
     },
     "execution_count": 8,
     "metadata": {},
     "output_type": "execute_result"
    }
   ],
   "source": [
    "np.linspace(0,1,11)"
   ]
  },
  {
   "cell_type": "markdown",
   "metadata": {
    "id": "yiXTG7D_7FE8"
   },
   "source": [
    "With this, now we can plot the results of our functions above:"
   ]
  },
  {
   "cell_type": "code",
   "execution_count": 9,
   "metadata": {
    "colab": {
     "base_uri": "https://localhost:8080/",
     "height": 296
    },
    "executionInfo": {
     "elapsed": 880,
     "status": "ok",
     "timestamp": 1649572063881,
     "user": {
      "displayName": "Khang Ngo",
      "userId": "14859771996971615067"
     },
     "user_tz": 420
    },
    "id": "HTzPOGfQ6vG9",
    "outputId": "82c7c280-a69e-4725-ccb0-cb851cf06c55"
   },
   "outputs": [
    {
     "data": {
      "text/plain": [
       "[<matplotlib.lines.Line2D at 0x1212ca4d0>]"
      ]
     },
     "execution_count": 9,
     "metadata": {},
     "output_type": "execute_result"
    },
    {
     "data": {
      "image/png": "[encoded data removed]",
      "text/plain": [
       "<Figure size 432x288 with 1 Axes>"
      ]
     },
     "metadata": {
      "needs_background": "light"
     },
     "output_type": "display_data"
    }
   ],
   "source": [
    "plt.plot(x,y2)"
   ]
  },
  {
   "cell_type": "markdown",
   "metadata": {
    "id": "1ltHZuoZ8KO3"
   },
   "source": [
    "This is a start, but let's make this a proper plot, with some axis labels and so on."
   ]
  },
  {
   "cell_type": "code",
   "execution_count": 10,
   "metadata": {
    "colab": {
     "base_uri": "https://localhost:8080/",
     "height": 279
    },
    "executionInfo": {
     "elapsed": 305,
     "status": "ok",
     "timestamp": 1649572064650,
     "user": {
      "displayName": "Khang Ngo",
      "userId": "14859771996971615067"
     },
     "user_tz": 420
    },
    "id": "QpFtDoRG74zi",
    "outputId": "4031b48a-46a3-4a9c-9086-68e9b173e17c"
   },
   "outputs": [
    {
     "data": {
      "image/png": "[encoded data removed]",
      "text/plain": [
       "<Figure size 432x288 with 1 Axes>"
      ]
     },
     "metadata": {
      "needs_background": "light"
     },
     "output_type": "display_data"
    }
   ],
   "source": [
    "plt.plot(x,y2)\n",
    "plt.ylabel(\"$\\sin(\\pi*x/n)$\")\n",
    "plt.xlabel(\"x\")\n",
    "plt.show()"
   ]
  },
  {
   "cell_type": "markdown",
   "metadata": {
    "id": "e8kL1md0ABk_"
   },
   "source": [
    "An even simpler way would be to plot the function directly, and in this example we'll use `np.linspace` and not divide by `n`:"
   ]
  },
  {
   "cell_type": "code",
   "execution_count": 11,
   "metadata": {
    "colab": {
     "base_uri": "https://localhost:8080/",
     "height": 279
    },
    "executionInfo": {
     "elapsed": 234,
     "status": "ok",
     "timestamp": 1649572065044,
     "user": {
      "displayName": "Khang Ngo",
      "userId": "14859771996971615067"
     },
     "user_tz": 420
    },
    "id": "_ZGLVdXE_syv",
    "outputId": "9cb7797b-ab55-4ef8-f37d-90918508d8c0"
   },
   "outputs": [
    {
     "data": {
      "image/png": "[encoded data removed]",
      "text/plain": [
       "<Figure size 432x288 with 1 Axes>"
      ]
     },
     "metadata": {
      "needs_background": "light"
     },
     "output_type": "display_data"
    }
   ],
   "source": [
    "def create_numpy_array_2(xvalues):\n",
    "  y=np.sin(math.pi*xvalues)\n",
    "  return y\n",
    "\n",
    "x3=np.linspace(0,1,int(1e6))\n",
    "plt.plot(x3,create_numpy_array_2(x3))\n",
    "plt.ylabel(\"$\\sin(\\pi*x)$\")\n",
    "plt.xlabel(\"x\")\n",
    "plt.show()"
   ]
  },
  {
   "cell_type": "markdown",
   "metadata": {
    "id": "S-FcNAenBqq6"
   },
   "source": [
    "Let's overlay two plots, say `sin` and `cos` to see what they both look like:"
   ]
  },
  {
   "cell_type": "code",
   "execution_count": 12,
   "metadata": {
    "colab": {
     "base_uri": "https://localhost:8080/",
     "height": 279
    },
    "executionInfo": {
     "elapsed": 2927,
     "status": "ok",
     "timestamp": 1649572070563,
     "user": {
      "displayName": "Khang Ngo",
      "userId": "14859771996971615067"
     },
     "user_tz": 420
    },
    "id": "XmSoowbw_OdZ",
    "outputId": "345cd504-7124-41ee-a4c0-bcbb01e6e67b"
   },
   "outputs": [
    {
     "name": "stderr",
     "output_type": "stream",
     "text": [
      "/Users/ngokhang2000/opt/anaconda3/lib/python3.7/site-packages/IPython/core/pylabtools.py:132: UserWarning: Creating legend with loc=\"best\" can be slow with large amounts of data.\n",
      "  fig.canvas.print_figure(bytes_io, **kw)\n"
     ]
    },
    {
     "data": {
      "image/png": "[encoded data removed]",
      "text/plain": [
       "<Figure size 432x288 with 1 Axes>"
      ]
     },
     "metadata": {
      "needs_background": "light"
     },
     "output_type": "display_data"
    }
   ],
   "source": [
    "plt.plot(x3,np.sin(math.pi*x3),label=\"$\\sin(\\pi*x)$\")\n",
    "plt.plot(x3,np.cos(math.pi*x3),label=\"$\\cos(\\pi*x)$\")\n",
    "plt.ylabel(\"y\")\n",
    "plt.xlabel(\"x\")\n",
    "plt.legend(fontsize='x-large')\n",
    "plt.show()"
   ]
  },
  {
   "cell_type": "markdown",
   "metadata": {
    "id": "9Flwbg9jHhui"
   },
   "source": [
    "We can also make histograms, showing the frequency of certain elements in a data sample:"
   ]
  },
  {
   "cell_type": "code",
   "execution_count": 13,
   "metadata": {
    "colab": {
     "base_uri": "https://localhost:8080/",
     "height": 300
    },
    "executionInfo": {
     "elapsed": 229,
     "status": "ok",
     "timestamp": 1649572072580,
     "user": {
      "displayName": "Khang Ngo",
      "userId": "14859771996971615067"
     },
     "user_tz": 420
    },
    "id": "nNeqtFyBHnSb",
    "outputId": "5f0dd2ba-c248-4111-99a5-66fa03075e24"
   },
   "outputs": [
    {
     "data": {
      "text/plain": [
       "Text(0, 0.5, 'Entries/Bin')"
      ]
     },
     "execution_count": 13,
     "metadata": {},
     "output_type": "execute_result"
    },
    {
     "data": {
      "image/png": "[encoded data removed]",
      "text/plain": [
       "<Figure size 432x288 with 1 Axes>"
      ]
     },
     "metadata": {
      "needs_background": "light"
     },
     "output_type": "display_data"
    }
   ],
   "source": [
    "counts,bins,_=plt.hist(y2,bins=10,range=(0,1))\n",
    "plt.xlabel(\"y\")\n",
    "plt.ylabel(\"Entries/Bin\")"
   ]
  },
  {
   "cell_type": "markdown",
   "metadata": {
    "id": "Wu-HasdPOu98"
   },
   "source": [
    "where now we have access to the contents of the histogram:"
   ]
  },
  {
   "cell_type": "code",
   "execution_count": 14,
   "metadata": {
    "colab": {
     "base_uri": "https://localhost:8080/"
    },
    "executionInfo": {
     "elapsed": 235,
     "status": "ok",
     "timestamp": 1649572074083,
     "user": {
      "displayName": "Khang Ngo",
      "userId": "14859771996971615067"
     },
     "user_tz": 420
    },
    "id": "lMark_O_Ox6N",
    "outputId": "8cc73566-ae66-4988-cf5e-e4e87c6bbff2"
   },
   "outputs": [
    {
     "name": "stdout",
     "output_type": "stream",
     "text": [
      "[ 63769.  64420.  65784.  68006.  71354.  76332.  83968.  96702. 122532.\n",
      " 287133.]\n",
      "[0.  0.1 0.2 0.3 0.4 0.5 0.6 0.7 0.8 0.9 1. ]\n"
     ]
    }
   ],
   "source": [
    "print(counts) # the \"Entries/Bin\" above\n",
    "print(bins)   # the edges of the bins"
   ]
  },
  {
   "cell_type": "markdown",
   "metadata": {
    "id": "7MP4kZ7KnlM9"
   },
   "source": [
    "For our purposes, it is often useful to be able to normalize the distribution to unit area, by using the `density` option:"
   ]
  },
  {
   "cell_type": "code",
   "execution_count": 15,
   "metadata": {
    "colab": {
     "base_uri": "https://localhost:8080/",
     "height": 335
    },
    "executionInfo": {
     "elapsed": 401,
     "status": "ok",
     "timestamp": 1649572075983,
     "user": {
      "displayName": "Khang Ngo",
      "userId": "14859771996971615067"
     },
     "user_tz": 420
    },
    "id": "Zp54xSPxnlM-",
    "outputId": "c33099d1-d748-42de-adfc-3e85aaced4d6"
   },
   "outputs": [
    {
     "name": "stdout",
     "output_type": "stream",
     "text": [
      "[0.63769 0.6442  0.65784 0.68006 0.71354 0.76332 0.83968 0.96702 1.22532\n",
      " 2.87133]\n",
      "[0.  0.1 0.2 0.3 0.4 0.5 0.6 0.7 0.8 0.9 1. ]\n"
     ]
    },
    {
     "data": {
      "image/png": "[encoded data removed]",
      "text/plain": [
       "<Figure size 432x288 with 1 Axes>"
      ]
     },
     "metadata": {
      "needs_background": "light"
     },
     "output_type": "display_data"
    }
   ],
   "source": [
    "counts,bins,_=plt.hist(y2,bins=10,range=(0,1),density=True)\n",
    "plt.xlabel(\"y\")\n",
    "plt.ylabel(\"1/N dN/dy\")\n",
    "print(counts) # the \"Entries/Bin\" above\n",
    "print(bins)   # the edges of the bins"
   ]
  },
  {
   "cell_type": "markdown",
   "metadata": {
    "id": "zzKyV_bsNnwy"
   },
   "source": [
    "# Problem 1 (30 points)\n",
    "\n",
    "\n",
    "Make a plot showing the different activtation functions we discussed in class, in the range from -3 to 3:\n",
    "\n",
    "*   Sigmoid\n",
    "*   tanh\n",
    "*   ReLU\n",
    "\n"
   ]
  },
  {
   "cell_type": "code",
   "execution_count": 16,
   "metadata": {
    "colab": {
     "base_uri": "https://localhost:8080/",
     "height": 869
    },
    "executionInfo": {
     "elapsed": 888,
     "status": "ok",
     "timestamp": 1649572077954,
     "user": {
      "displayName": "Khang Ngo",
      "userId": "14859771996971615067"
     },
     "user_tz": 420
    },
    "id": "A6fPCUuOCTi6",
    "outputId": "993ca082-81bd-4c14-c7e6-040c15e5e190"
   },
   "outputs": [
    {
     "data": {
      "text/plain": [
       "Text(0, 0.5, 'max(0,x)')"
      ]
     },
     "execution_count": 16,
     "metadata": {},
     "output_type": "execute_result"
    },
    {
     "data": {
      "image/png": "[encoded data removed]",
      "text/plain": [
       "<Figure size 432x288 with 1 Axes>"
      ]
     },
     "metadata": {
      "needs_background": "light"
     },
     "output_type": "display_data"
    },
    {
     "data": {
      "image/png": "[encoded data removed]",
      "text/plain": [
       "<Figure size 432x288 with 1 Axes>"
      ]
     },
     "metadata": {
      "needs_background": "light"
     },
     "output_type": "display_data"
    },
    {
     "data": {
      "image/png": "[encoded data removed]",
      "text/plain": [
       "<Figure size 432x288 with 1 Axes>"
      ]
     },
     "metadata": {
      "needs_background": "light"
     },
     "output_type": "display_data"
    }
   ],
   "source": [
    "# your code here\n",
    "x = np.linspace(-3,3,1000) #1d array from -3 to 3\n",
    "sigmoid = 1/(1+np.exp(-x)) #1d array containing sigmoid function vals\n",
    "tanh = (np.exp(x)-np.exp(-x))/(np.exp(x)+np.exp(-x)) #1d array containing tanh function vals\n",
    "ReLU = np.maximum(0,x) #1d array containing ReLU function vals\n",
    "\n",
    "plt.figure(0) #plot sigmoid\n",
    "plt.plot(x,sigmoid) \n",
    "plt.title(\"Sigmoid Function\")\n",
    "plt.xlabel(\"x\")\n",
    "plt.ylabel(\"$1/(1+e^{-x})$\")\n",
    "\n",
    "plt.figure(1) #plot tanh\n",
    "plt.plot(x,tanh)\n",
    "plt.title(\"Tanh Function\")\n",
    "plt.xlabel(\"x\")\n",
    "plt.ylabel(\"$(e^{x}-e^{-x})/(e^{x}+e^{-x})$\")\n",
    "\n",
    "plt.figure(2) #plot ReLU \n",
    "plt.plot(x,ReLU)\n",
    "plt.title(\"ReLU Function\")\n",
    "plt.xlabel(\"x\")\n",
    "plt.ylabel(\"max(0,x)\")"
   ]
  },
  {
   "cell_type": "markdown",
   "metadata": {
    "id": "2MvtHx4kOrQp"
   },
   "source": [
    "# Vectors, Matrices, and Tensors in Python"
   ]
  },
  {
   "cell_type": "markdown",
   "metadata": {
    "id": "szuXfqpAO5jR"
   },
   "source": [
    "We can create more than just lists of numbers:"
   ]
  },
  {
   "cell_type": "code",
   "execution_count": 17,
   "metadata": {
    "id": "Of-wf5YEO4ua"
   },
   "outputs": [],
   "source": [
    "vector = np.ones(shape=(4,))\n",
    "matrix = np.ones(shape=(3, 4))\n",
    "tensor = np.ones(shape=(2, 3, 4))"
   ]
  },
  {
   "cell_type": "code",
   "execution_count": 18,
   "metadata": {
    "colab": {
     "base_uri": "https://localhost:8080/"
    },
    "executionInfo": {
     "elapsed": 5,
     "status": "ok",
     "timestamp": 1649572084319,
     "user": {
      "displayName": "Khang Ngo",
      "userId": "14859771996971615067"
     },
     "user_tz": 420
    },
    "id": "rNtzHjA1Poe7",
    "outputId": "e201b00c-0e0d-4251-addd-fd55b52b7ed8"
   },
   "outputs": [
    {
     "name": "stdout",
     "output_type": "stream",
     "text": [
      "[1. 1. 1. 1.]\n"
     ]
    }
   ],
   "source": [
    "print(vector)"
   ]
  },
  {
   "cell_type": "code",
   "execution_count": 19,
   "metadata": {
    "colab": {
     "base_uri": "https://localhost:8080/"
    },
    "executionInfo": {
     "elapsed": 5,
     "status": "ok",
     "timestamp": 1649572084320,
     "user": {
      "displayName": "Khang Ngo",
      "userId": "14859771996971615067"
     },
     "user_tz": 420
    },
    "id": "HPHs-RaAPMXN",
    "outputId": "5f37df62-4fe7-4a11-8403-f9b96559910b"
   },
   "outputs": [
    {
     "name": "stdout",
     "output_type": "stream",
     "text": [
      "[[1. 1. 1. 1.]\n",
      " [1. 1. 1. 1.]\n",
      " [1. 1. 1. 1.]]\n"
     ]
    }
   ],
   "source": [
    "print(matrix)"
   ]
  },
  {
   "cell_type": "code",
   "execution_count": 20,
   "metadata": {
    "colab": {
     "base_uri": "https://localhost:8080/"
    },
    "executionInfo": {
     "elapsed": 195,
     "status": "ok",
     "timestamp": 1649572085334,
     "user": {
      "displayName": "Khang Ngo",
      "userId": "14859771996971615067"
     },
     "user_tz": 420
    },
    "id": "Df1pqVNGPhXu",
    "outputId": "2ead991d-143c-4892-b2bc-559452cb8499"
   },
   "outputs": [
    {
     "name": "stdout",
     "output_type": "stream",
     "text": [
      "[[[1. 1. 1. 1.]\n",
      "  [1. 1. 1. 1.]\n",
      "  [1. 1. 1. 1.]]\n",
      "\n",
      " [[1. 1. 1. 1.]\n",
      "  [1. 1. 1. 1.]\n",
      "  [1. 1. 1. 1.]]]\n"
     ]
    }
   ],
   "source": [
    "print(tensor)"
   ]
  },
  {
   "cell_type": "markdown",
   "metadata": {
    "id": "0d_AdW6yPrIc"
   },
   "source": [
    "We can access different elements of these objects using indices:"
   ]
  },
  {
   "cell_type": "code",
   "execution_count": 21,
   "metadata": {
    "colab": {
     "base_uri": "https://localhost:8080/"
    },
    "executionInfo": {
     "elapsed": 2,
     "status": "ok",
     "timestamp": 1649572086203,
     "user": {
      "displayName": "Khang Ngo",
      "userId": "14859771996971615067"
     },
     "user_tz": 420
    },
    "id": "mBk_d7jFPiex",
    "outputId": "3289dcf8-474a-46a0-f555-5ae6f3ec7d08"
   },
   "outputs": [
    {
     "name": "stdout",
     "output_type": "stream",
     "text": [
      "[1. 9. 1. 1.]\n"
     ]
    }
   ],
   "source": [
    "vector[1]=9\n",
    "print(vector)"
   ]
  },
  {
   "cell_type": "code",
   "execution_count": 22,
   "metadata": {
    "colab": {
     "base_uri": "https://localhost:8080/"
    },
    "executionInfo": {
     "elapsed": 5,
     "status": "ok",
     "timestamp": 1649572086897,
     "user": {
      "displayName": "Khang Ngo",
      "userId": "14859771996971615067"
     },
     "user_tz": 420
    },
    "id": "vsgwgAjgPzbL",
    "outputId": "b27e7b7e-57c6-465a-cea4-b2da5415009f"
   },
   "outputs": [
    {
     "name": "stdout",
     "output_type": "stream",
     "text": [
      "[[1. 1. 1. 1.]\n",
      " [2. 2. 2. 2.]\n",
      " [1. 1. 1. 1.]]\n"
     ]
    }
   ],
   "source": [
    "matrix[1,:]=2 # single row\n",
    "print(matrix)"
   ]
  },
  {
   "cell_type": "code",
   "execution_count": 23,
   "metadata": {
    "colab": {
     "base_uri": "https://localhost:8080/"
    },
    "executionInfo": {
     "elapsed": 4,
     "status": "ok",
     "timestamp": 1649572087389,
     "user": {
      "displayName": "Khang Ngo",
      "userId": "14859771996971615067"
     },
     "user_tz": 420
    },
    "id": "DM12I0UaP65q",
    "outputId": "020391c0-1e72-4aef-80a8-e6b612dad474"
   },
   "outputs": [
    {
     "name": "stdout",
     "output_type": "stream",
     "text": [
      "[[1. 1. 1. 4.]\n",
      " [2. 2. 2. 4.]\n",
      " [1. 1. 1. 4.]]\n"
     ]
    }
   ],
   "source": [
    "matrix[:,3]=4 # single column\n",
    "print(matrix)"
   ]
  },
  {
   "cell_type": "code",
   "execution_count": 24,
   "metadata": {
    "colab": {
     "base_uri": "https://localhost:8080/"
    },
    "executionInfo": {
     "elapsed": 3,
     "status": "ok",
     "timestamp": 1649572087971,
     "user": {
      "displayName": "Khang Ngo",
      "userId": "14859771996971615067"
     },
     "user_tz": 420
    },
    "id": "RqXRA7OVAagY",
    "outputId": "514ccd13-2e01-44a2-9806-a9faecaa2725"
   },
   "outputs": [
    {
     "data": {
      "text/plain": [
       "array([[1., 2., 1.],\n",
       "       [1., 2., 1.],\n",
       "       [1., 2., 1.],\n",
       "       [4., 4., 4.]])"
      ]
     },
     "execution_count": 24,
     "metadata": {},
     "output_type": "execute_result"
    }
   ],
   "source": [
    "matrix.T # transpose"
   ]
  },
  {
   "cell_type": "code",
   "execution_count": 25,
   "metadata": {
    "colab": {
     "base_uri": "https://localhost:8080/"
    },
    "executionInfo": {
     "elapsed": 309,
     "status": "ok",
     "timestamp": 1649572088856,
     "user": {
      "displayName": "Khang Ngo",
      "userId": "14859771996971615067"
     },
     "user_tz": 420
    },
    "id": "Qmg4ngo0QB25",
    "outputId": "697a44e5-3329-488b-eeac-116a10038226"
   },
   "outputs": [
    {
     "name": "stdout",
     "output_type": "stream",
     "text": [
      "[[[5. 5. 5. 1.]\n",
      "  [5. 5. 5. 1.]\n",
      "  [1. 1. 1. 1.]]\n",
      "\n",
      " [[1. 1. 1. 1.]\n",
      "  [1. 1. 1. 1.]\n",
      "  [1. 1. 1. 1.]]]\n"
     ]
    }
   ],
   "source": [
    "tensor[0,:2,:3]=5 # subsets of a matrix, up to (but not including) row 2 and up to (but not including) column 3 in matrix 0\n",
    "print(tensor)"
   ]
  },
  {
   "cell_type": "markdown",
   "metadata": {
    "id": "VWD05bYfQjVc"
   },
   "source": [
    "We can use dot products too:"
   ]
  },
  {
   "cell_type": "code",
   "execution_count": 26,
   "metadata": {
    "colab": {
     "base_uri": "https://localhost:8080/"
    },
    "executionInfo": {
     "elapsed": 236,
     "status": "ok",
     "timestamp": 1649572090077,
     "user": {
      "displayName": "Khang Ngo",
      "userId": "14859771996971615067"
     },
     "user_tz": 420
    },
    "id": "Y9oX2vruQinz",
    "outputId": "4b547907-dc79-4d60-c1af-6fa07902e0b5"
   },
   "outputs": [
    {
     "name": "stdout",
     "output_type": "stream",
     "text": [
      "84.0\n"
     ]
    }
   ],
   "source": [
    "magnitude=vector.dot(vector)\n",
    "print(magnitude)"
   ]
  },
  {
   "cell_type": "code",
   "execution_count": 27,
   "metadata": {
    "colab": {
     "base_uri": "https://localhost:8080/"
    },
    "executionInfo": {
     "elapsed": 3,
     "status": "ok",
     "timestamp": 1649572091601,
     "user": {
      "displayName": "Khang Ngo",
      "userId": "14859771996971615067"
     },
     "user_tz": 420
    },
    "id": "pDKxr_25QMUb",
    "outputId": "4b8412d2-4b70-4f0b-b809-541a3752ff62"
   },
   "outputs": [
    {
     "name": "stdout",
     "output_type": "stream",
     "text": [
      "[15. 26. 15.]\n"
     ]
    }
   ],
   "source": [
    "rotatedvector=matrix.dot(vector)\n",
    "print(rotatedvector)"
   ]
  },
  {
   "cell_type": "code",
   "execution_count": 28,
   "metadata": {
    "colab": {
     "base_uri": "https://localhost:8080/"
    },
    "executionInfo": {
     "elapsed": 230,
     "status": "ok",
     "timestamp": 1649572092928,
     "user": {
      "displayName": "Khang Ngo",
      "userId": "14859771996971615067"
     },
     "user_tz": 420
    },
    "id": "oP105H-PAmf5",
    "outputId": "e4a508c4-57df-4aa5-fcad-c7b33ce88ad2"
   },
   "outputs": [
    {
     "data": {
      "text/plain": [
       "array([[19., 22., 19.],\n",
       "       [22., 28., 22.],\n",
       "       [19., 22., 19.]])"
      ]
     },
     "execution_count": 28,
     "metadata": {},
     "output_type": "execute_result"
    }
   ],
   "source": [
    "matrix.dot(matrix.T)"
   ]
  },
  {
   "cell_type": "markdown",
   "metadata": {
    "id": "-xJj5gUmT7hN"
   },
   "source": [
    "We can use `np.einsum` to do something fancier, and evaluate expressions like $x^{ij}y_{jk}=z^{i}_{k}$, where repeated indices are summed over (called Einstein summation notation, seen often in General Relativity).  You can find some documenation on `numpy.einsum` [here](https://numpy.org/doc/stable/reference/generated/numpy.einsum.html)."
   ]
  },
  {
   "cell_type": "code",
   "execution_count": 29,
   "metadata": {
    "colab": {
     "base_uri": "https://localhost:8080/"
    },
    "executionInfo": {
     "elapsed": 4,
     "status": "ok",
     "timestamp": 1649572094438,
     "user": {
      "displayName": "Khang Ngo",
      "userId": "14859771996971615067"
     },
     "user_tz": 420
    },
    "id": "GkJtDwcIU5Jq",
    "outputId": "9060643d-b936-4244-d57f-31ff84e87d12"
   },
   "outputs": [
    {
     "name": "stdout",
     "output_type": "stream",
     "text": [
      "[[ 0  1  2  3]\n",
      " [ 4  5  6  7]\n",
      " [ 8  9 10 11]\n",
      " [12 13 14 15]]\n",
      "[[16 17 18 19]\n",
      " [20 21 22 23]\n",
      " [24 25 26 27]\n",
      " [28 29 30 31]]\n",
      "[[ 152  158  164  170]\n",
      " [ 504  526  548  570]\n",
      " [ 856  894  932  970]\n",
      " [1208 1262 1316 1370]]\n"
     ]
    }
   ],
   "source": [
    "x=np.arange(16).reshape(4,4) # make a matrix out of consecutive numbers\n",
    "y=(np.arange(16)+16).reshape(4,4)\n",
    "print(x)\n",
    "print(y)\n",
    "print(np.einsum('ij,jk',x,y))"
   ]
  },
  {
   "cell_type": "markdown",
   "metadata": {
    "id": "6oozlCHvTJx4"
   },
   "source": [
    "# Problem 2 (30 points)\n",
    "\n",
    "Let's write a function that will evaluate the tensor expression $g^{il}\\Gamma_{ki}^{m}x^{k}$.  Use `np.einsum` to do the evaluation within the skeleton function below."
   ]
  },
  {
   "cell_type": "code",
   "execution_count": 30,
   "metadata": {
    "id": "kAKYUn6hQ2Iw"
   },
   "outputs": [],
   "source": [
    "def tensor_expr(g, Gamma, x, D=4):\n",
    "    \"\"\"Evaluate the tensor expression above.\n",
    "    \n",
    "    Parameters\n",
    "    ----------\n",
    "    g : array\n",
    "        Numpy array of shape (D, D)\n",
    "    Gamma : array\n",
    "        Numpy array of shape (D, D, D)\n",
    "    x : array\n",
    "        Numpy array of shape (D,)\n",
    "    D : int\n",
    "        Dimension of input tensors.\n",
    "        \n",
    "    Returns\n",
    "    -------\n",
    "    array\n",
    "        Numpy array of shape (D, D) that evaluates the tensor expression.\n",
    "    \"\"\"\n",
    "    assert g.shape == (D, D)\n",
    "    assert Gamma.shape == (D, D, D)\n",
    "    assert x.shape == (D,)\n",
    "    \n",
    "    result = np.einsum('jkl,l->jk',np.einsum('ij,kli->jkl',g,Gamma),x) #i=i,j=l,k=m,l=k in ijkl notation\n",
    "    print(\"Tensor Expression = {0}\".format(result))\n",
    "    \n",
    "    return(result)"
   ]
  },
  {
   "cell_type": "code",
   "execution_count": 31,
   "metadata": {
    "id": "uFpyrrOXTuni"
   },
   "outputs": [
    {
     "name": "stdout",
     "output_type": "stream",
     "text": [
      "Tensor Expression = [[ 1680  3984  6288  8592]\n",
      " [ 1940  4628  7316 10004]\n",
      " [ 2200  5272  8344 11416]\n",
      " [ 2460  5916  9372 12828]]\n"
     ]
    }
   ],
   "source": [
    "# A correct solution should pass the following tests:\n",
    "g = np.arange(4 ** 2).reshape(4, 4)\n",
    "Gamma = np.arange(4 ** 3).reshape(4, 4, 4)\n",
    "x = np.arange(4)\n",
    "y = tensor_expr(g, Gamma, x)\n",
    "assert np.array_equal(\n",
    "    y,\n",
    "    [[ 1680,  3984,  6288,  8592], [ 1940,  4628,  7316, 10004],\n",
    "     [ 2200,  5272,  8344, 11416], [ 2460,  5916,  9372, 12828]])\n",
    "\n"
   ]
  },
  {
   "cell_type": "markdown",
   "metadata": {
    "id": "0Q0czTzwTtoN"
   },
   "source": [
    "# Loss functions"
   ]
  },
  {
   "cell_type": "markdown",
   "metadata": {
    "id": "gOIsIqDRdYxY"
   },
   "source": [
    "We calculated the objective function (also called the loss or loss function, the error, and other names) as:\n",
    "\n",
    "$$\\mathcal{L} = -\\frac{1}{m}\\sum_{j=1}^{m} \\left[\\sum_{i=1}^{k} p_{i}\\ln q_{i}\\right]_{j}$$\n",
    "\n",
    "where $j$ is iterating over events, and $i$ is iterating over categories.  But we can more generally write this as:\n",
    "\n",
    "$$\\mathcal{L} = \\frac{1}{m}\\sum_{j=1}^{m} \\left[H(p,q)\\right]_{j}$$\n",
    "\n",
    "where $H(p,q)$ is any appropriate objective function.  Depending on the nature of $H$, the objective function $\\mathcal{L}$ for a given set of events may be easier/harder to calculate.  "
   ]
  },
  {
   "cell_type": "markdown",
   "metadata": {
    "id": "4qjcwZnHNUeY"
   },
   "source": [
    "For example, let's consider the case where $H(p,q)$ is just defined by the mean-square-error:\n",
    "\n",
    "$$ \\mathcal{L}=\\frac{1}{m}\\sum_{j=1}^{m} \\left[ \\left(f(x_j)-y(x_j)\\right)^2 \\right]_{j}$$\n",
    "\n",
    "where $f(x_j)$ represents the output of the algorithm and $y(x_j)$ represents the true classification label for event with features $x_j$.  "
   ]
  },
  {
   "cell_type": "markdown",
   "metadata": {
    "id": "D-ud1Pj7NWSn"
   },
   "source": [
    "If we're not interested in classification, but instead we want to predict a value on a continuum, then that's a problem for *regression*.  In that case, we adjust our interpretation of the elements in the formula above: `m` is the number of data points in a distribution that we're comparing to, rather than the number of events that make up the distribution.  "
   ]
  },
  {
   "cell_type": "markdown",
   "metadata": {
    "id": "TmbyDUC2F4zq"
   },
   "source": [
    "# Problem 3 (40 points)"
   ]
  },
  {
   "cell_type": "markdown",
   "metadata": {
    "id": "aMjeCAtAF7Lv"
   },
   "source": [
    "Let's get some practice computing $\\mathcal{L}$ numerically.  We'll create a dataset and fit it using several functional forms, testing the objective function as we go to see which one performs best."
   ]
  },
  {
   "cell_type": "code",
   "execution_count": 6,
   "metadata": {
    "id": "xA5bgNjyF2HV"
   },
   "outputs": [],
   "source": [
    "N=1000 # number of events to generate\n",
    "generator = np.random.RandomState(seed=123)\n",
    "dataset=generator.normal(loc=2,scale=3,size=N)"
   ]
  },
  {
   "cell_type": "markdown",
   "metadata": {
    "id": "vqN9wcxJHLMO"
   },
   "source": [
    "Plot the normal distribution above, saving the bin entries as `counts` and the bin edges as `bins`.  It's best to normalize this distribution to unit area, otherwise the results below may become unstable."
   ]
  },
  {
   "cell_type": "code",
   "execution_count": 7,
   "metadata": {
    "colab": {
     "base_uri": "https://localhost:8080/",
     "height": 297
    },
    "executionInfo": {
     "elapsed": 1058,
     "status": "ok",
     "timestamp": 1649572358095,
     "user": {
      "displayName": "Khang Ngo",
      "userId": "14859771996971615067"
     },
     "user_tz": 420
    },
    "id": "AXCQXzaHHSYP",
    "outputId": "579fe13c-10ce-452e-9ab6-6d78458bd110"
   },
   "outputs": [
    {
     "data": {
      "text/plain": [
       "Text(0, 0.5, '1/N dN/dx')"
      ]
     },
     "execution_count": 7,
     "metadata": {},
     "output_type": "execute_result"
    },
    {
     "data": {
      "image/png": "[encoded data removed]",
      "text/plain": [
       "<Figure size 432x288 with 1 Axes>"
      ]
     },
     "metadata": {
      "needs_background": "light"
     },
     "output_type": "display_data"
    }
   ],
   "source": [
    "m=20 # number of bins in the histogram\n",
    "histrange=(-10,10) # range of the histogram\n",
    "\n",
    "counts,bins,_ = plt.hist(dataset,bins=m,range=histrange,density=True)\n",
    "plt.xlabel('x')\n",
    "plt.ylabel(\"1/N dN/dx\")"
   ]
  },
  {
   "cell_type": "markdown",
   "metadata": {
    "id": "AusXdxrJIc-P"
   },
   "source": [
    "Now compute the objective function (using the mean-square-error formula above) assuming: \n",
    "\n",
    "$$f(x)=\\frac{N}{\\sqrt{2\\pi}\\sigma}e^{-\\frac{1}{2\\sigma^2}(x-\\mu)^2}$$\n",
    "\n",
    "guessing that the mean is $\\mu=2.5$ and the width is $\\sigma=2.5$.  Remember, in this case we're going to iterate over the histogram bins, not the individual events!  Finally, keep in mind that the bin contents should really be considered to be at the bin *centers*, not the bin *edges*."
   ]
  },
  {
   "cell_type": "code",
   "execution_count": 10,
   "metadata": {
    "id": "q8jKeRrTHUyn"
   },
   "outputs": [],
   "source": [
    "def loss_func(x,m,mu,sigma,counts):\n",
    "  \"\"\"\n",
    "  Parameters\n",
    "  ----------\n",
    "  x: ndarray, req\n",
    "    1d-array containing center of each bin.\n",
    "  m: int, req\n",
    "    Number of bins.\n",
    "  mu: int|float, reg\n",
    "    Mean of f(x).\n",
    "  sigma: int|float, reg\n",
    "    Width of f(x).\n",
    "  counts: ndarray, req\n",
    "    1d-array containing counts of each bin.\n",
    "\n",
    "  Returns\n",
    "  ----------\n",
    "  L: Value calculated by the loss function.\n",
    "\n",
    "  \"\"\"\n",
    "  Fx_sub_Yx_sq = [] #empty list to stores (f(x)-y(x))^2 values\n",
    "\n",
    "  for index in np.arange(len(x)): #iterate through each bin center, x\n",
    "    f_x = (1/(np.sqrt(2*np.pi)*sigma))*np.exp((-1/(2*(sigma**2)))*((x[index]-mu)**2)) #output of algorithm\n",
    "    y_x = counts[index] #true classification label\n",
    "    Fx_sub_Yx_sq.append((f_x-y_x)**2) #append value to list Fx_sub_Yx_sq \n",
    "  \n",
    "  L = np.sum(np.array(Fx_sub_Yx_sq),axis=0)/m #calculate L using given formula\n",
    "  \n",
    "  return L\n"
   ]
  },
  {
   "cell_type": "code",
   "execution_count": 11,
   "metadata": {
    "colab": {
     "base_uri": "https://localhost:8080/"
    },
    "executionInfo": {
     "elapsed": 170,
     "status": "ok",
     "timestamp": 1649572596264,
     "user": {
      "displayName": "Khang Ngo",
      "userId": "14859771996971615067"
     },
     "user_tz": 420
    },
    "id": "Sg_Emci1Fuqt",
    "outputId": "dca12bd0-3e9f-48e7-bf9e-a0364f2060ab"
   },
   "outputs": [
    {
     "name": "stdout",
     "output_type": "stream",
     "text": [
      "Value of the objective function: 0.0003157191991299284\n"
     ]
    }
   ],
   "source": [
    "bins_center = np.arange(-9.5,10.5,1) #bin contents should be considered at bin centers!\n",
    "mu = 2.5 #estimated mu value\n",
    "sigma = 2.5 #estimated sigma value\n",
    "obj_func = loss_func(bins_center,m,mu,sigma,counts) #Calculated L w/ mu=2.5 and sigma=2.5\n",
    "print(\"Value of the objective function: {0}\".format(obj_func))\n"
   ]
  },
  {
   "cell_type": "markdown",
   "metadata": {
    "id": "sLeARoO-QkHs"
   },
   "source": [
    "Now put this inside of a loop, and check values of the mean in steps of 0.1 between 0 and 5 to find the minimum value of the objective function.  Keep the guess that $\\sigma=2.5$ as before:"
   ]
  },
  {
   "cell_type": "code",
   "execution_count": 36,
   "metadata": {
    "id": "Hv96hJBQQ_uV"
   },
   "outputs": [],
   "source": [
    "def LFunc_MuSteps(mu_steps):\n",
    "  \"\"\"\n",
    "  Parameters\n",
    "  ----------\n",
    "  mu_steps: ndarray, req\n",
    "    Mu from 0.1 to 5.0 in steps of 0.1.\n",
    "\n",
    "  Returns\n",
    "  ----------\n",
    "  LMin: Minimum value of the objective function.\n",
    "\n",
    "  LMin_index: Index of LMin in LFunc_MuSteps_list.\n",
    "\n",
    "  \"\"\"\n",
    "\n",
    "  LFunc_MuSteps_list = [] #empty list to store the L of each iteration\n",
    "  for new_mu in mu_steps: #iterate through all mu \n",
    "    L_MuSteps = loss_func(bins_center,m,new_mu,sigma,counts)\n",
    "    LFunc_MuSteps_list.append(L_MuSteps)\n",
    "  \n",
    "  LMin = min(LFunc_MuSteps_list) #minimum value of the objective function\n",
    "  LMin_index = list(LFunc_MuSteps_list).index(min(LFunc_MuSteps_list)) #index of minimum value of the objective function\n",
    "\n",
    "  print(\"Minimum value of the objective function: {0}\".format(LMin))\n",
    "\n",
    "  return LMin,LMin_index"
   ]
  },
  {
   "cell_type": "code",
   "execution_count": 37,
   "metadata": {
    "colab": {
     "base_uri": "https://localhost:8080/"
    },
    "executionInfo": {
     "elapsed": 240,
     "status": "ok",
     "timestamp": 1649572872863,
     "user": {
      "displayName": "Khang Ngo",
      "userId": "14859771996971615067"
     },
     "user_tz": 420
    },
    "id": "jhuC8-zYRel3",
    "outputId": "ec6afdaa-3433-4e13-d81d-af3c2d837183"
   },
   "outputs": [
    {
     "name": "stdout",
     "output_type": "stream",
     "text": [
      "Minimum value of the objective function: 0.00018630407744979577\n",
      "Best guess of mu: 1.9000000000000001\n"
     ]
    }
   ],
   "source": [
    "mu_steps = np.arange(0.1,5.1,0.1) #mu from 0.1 to 5.0, in step of 0.1\n",
    "LMin,LMin_index = LFunc_MuSteps(mu_steps)\n",
    "print(\"Best guess of mu: {0}\".format(mu_steps[LMin_index]))"
   ]
  },
  {
   "cell_type": "markdown",
   "metadata": {
    "id": "ClXEoB3VTkZJ"
   },
   "source": [
    "Now do the same thing with the width $\\sigma$, scanning from 0.1 to 5 in steps of 0.1, this time assuming for $\\mu$ the best guess of $\\mu$ from the loop above:"
   ]
  },
  {
   "cell_type": "code",
   "execution_count": 38,
   "metadata": {
    "id": "HGowO6UgRsFn"
   },
   "outputs": [],
   "source": [
    "def LFunc_SigmaSteps(sigma_steps,opt_mu):\n",
    "  \"\"\"\n",
    "  Parameters\n",
    "  ----------\n",
    "  sigma_steps: ndarray, req\n",
    "    Sigma from 0.1 to 5.0 in steps of 0.1.\n",
    "\n",
    "  opt_mu: float, req\n",
    "    Best guess of mu from previous loop.\n",
    "\n",
    "  Returns\n",
    "  ----------\n",
    "  LMin: Minimum value of the objective function.\n",
    "\n",
    "  LMin_index: Index of LMin in LFunc_SigmaSteps_list.\n",
    "  \n",
    "  \"\"\"\n",
    "\n",
    "  LFunc_SigmaSteps_list = [] #empty list to store the L of each iteration\n",
    "  for new_sigma in sigma_steps: #iterate through all sigma\n",
    "    L_SigmaStep = loss_func(bins_center,m,opt_mu,new_sigma,counts)\n",
    "    LFunc_SigmaSteps_list.append(L_SigmaStep)\n",
    "\n",
    "  LMin = min(LFunc_SigmaSteps_list) #minimum value of the objective function\n",
    "  LMin_index = list(LFunc_SigmaSteps_list).index(min(LFunc_SigmaSteps_list)) #index of minimum value of the objective function\n",
    "    \n",
    "  print(\"Minimum value of the objective function: {0}\".format(LMin))\n",
    "\n",
    "  return LMin,LMin_index\n"
   ]
  },
  {
   "cell_type": "code",
   "execution_count": 39,
   "metadata": {
    "colab": {
     "base_uri": "https://localhost:8080/"
    },
    "executionInfo": {
     "elapsed": 218,
     "status": "ok",
     "timestamp": 1649575442344,
     "user": {
      "displayName": "Khang Ngo",
      "userId": "14859771996971615067"
     },
     "user_tz": 420
    },
    "id": "1sVtWK5pWQEQ",
    "outputId": "c3f711a5-1d25-43b2-c546-cfb366bc680b"
   },
   "outputs": [
    {
     "name": "stdout",
     "output_type": "stream",
     "text": [
      "Minimum value of the objective function: 4.973189465534081e-05\n",
      "Best guess of sigma: 3.0000000000000004\n"
     ]
    }
   ],
   "source": [
    "sigma_steps = np.arange(0.1,5.1,0.1) #sigma from 0.1 to 5.0, in step of 0.1\n",
    "LMin_sigma,LMin_sigma_index = LFunc_SigmaSteps(sigma_steps,mu_steps[LMin_index])\n",
    "print(\"Best guess of sigma: {0}\".format(sigma_steps[LMin_sigma_index]))"
   ]
  },
  {
   "cell_type": "markdown",
   "metadata": {
    "id": "DrJE7mwwaSqY"
   },
   "source": [
    "This is a bit of a brute-force approach.  We'll explore gradient descent for finding the local minima in a future homework."
   ]
  },
  {
   "cell_type": "code",
   "execution_count": null,
   "metadata": {},
   "outputs": [],
   "source": []
  }
 ],
 "metadata": {
  "colab": {
   "collapsed_sections": [
    "zzKyV_bsNnwy",
    "2MvtHx4kOrQp",
    "6oozlCHvTJx4",
    "0Q0czTzwTtoN"
   ],
   "name": "HW1.ipynb",
   "provenance": []
  },
  "kernelspec": {
   "display_name": "Python 3",
   "language": "python",
   "name": "python3"
  },
  "language_info": {
   "codemirror_mode": {
    "name": "ipython",
    "version": 3
   },
   "file_extension": ".py",
   "mimetype": "text/x-python",
   "name": "python",
   "nbconvert_exporter": "python",
   "pygments_lexer": "ipython3",
   "version": "3.7.6"
  }
 },
 "nbformat": 4,
 "nbformat_minor": 4
}
