{
 "cells": [
  {
   "cell_type": "markdown",
   "metadata": {},
   "source": [
    "# Convolutional Neural Networks\n",
    "\n",
    "Let's look at how to implement a Convolutional Neural Network in pytorch, and investigate an example case based on a solid state physics problem."
   ]
  },
  {
   "cell_type": "code",
   "execution_count": 26,
   "metadata": {},
   "outputs": [],
   "source": [
    "%matplotlib inline\n",
    "import matplotlib.pyplot as plt\n",
    "import numpy as np\n",
    "from os.path import exists\n",
    "import time\n",
    "import seaborn as sns\n",
    "\n",
    "import torch.nn\n",
    "import torch.nn.functional as F\n",
    "import torch.optim\n",
    "import torch.utils.data"
   ]
  },
  {
   "cell_type": "markdown",
   "metadata": {},
   "source": [
    "We discussed the Ising Model in class -- let's imagine we have a lattice of spins, which can have values $\\pm1$, and we make measurements of different lattices at different temperatures.  We'll import that dataset and use the first 20k samples as training events."
   ]
  },
  {
   "cell_type": "code",
   "execution_count": 27,
   "metadata": {},
   "outputs": [],
   "source": [
    "output = 'ising_data.npz'\n",
    "\n",
    "if not exists(output):\n",
    "    import gdown\n",
    "    url = \"https://drive.google.com/u/0/uc?export=download&confirm=HgGH&id=1Ihxt1hb3Kyv0IrjHlsYb9x9QY7l7n2Sl\"\n",
    "    gdown.download(url, output, quiet=True)\n",
    "\n",
    "f = np.load(output, allow_pickle=True)\n",
    "n_train = 20000\n",
    "n_test=len(f[\"C\"])-n_train\n",
    "\n",
    "x_train, x_test = f[\"C\"][:n_train], f[\"C\"][n_train:]\n",
    "T_train, T_test = f[\"T\"][:n_train], f[\"T\"][n_train:]"
   ]
  },
  {
   "cell_type": "markdown",
   "metadata": {},
   "source": [
    "Let's take a quick look at some of the samples to see what they look like: each sample is composed of a 2D grid of 32x32 pixels (each pixel can be +1 or -1) and corresponds to the lattice at a given temperature:"
   ]
  },
  {
   "cell_type": "code",
   "execution_count": 28,
   "metadata": {},
   "outputs": [
    {
     "data": {
      "image/png": "[encoded data removed]",
      "text/plain": [
       "<Figure size 432x288 with 6 Axes>"
      ]
     },
     "metadata": {
      "needs_background": "light"
     },
     "output_type": "display_data"
    }
   ],
   "source": [
    "for i,j in enumerate(np.random.choice(n_train, 6)):\n",
    "    plt.subplot(2,3,i+1)\n",
    "    image = x_train[j]\n",
    "    if j==1:\n",
    "        print(image)\n",
    "    plot = plt.imshow(image)\n",
    "    plt.title(\"T: %.2f\" % T_train[j])\n",
    "\n",
    "plt.tight_layout()\n",
    "plt.show()"
   ]
  },
  {
   "cell_type": "code",
   "execution_count": 29,
   "metadata": {},
   "outputs": [
    {
     "data": {
      "text/plain": [
       "Text(0, 0.5, 'frequency')"
      ]
     },
     "execution_count": 29,
     "metadata": {},
     "output_type": "execute_result"
    },
    {
     "data": {
      "image/png": "[encoded data removed]",
      "text/plain": [
       "<Figure size 432x288 with 1 Axes>"
      ]
     },
     "metadata": {
      "needs_background": "light"
     },
     "output_type": "display_data"
    }
   ],
   "source": [
    "plt.hist(T_test,bins=25)\n",
    "plt.xlabel(\"T\")\n",
    "plt.ylabel(\"frequency\")"
   ]
  },
  {
   "cell_type": "markdown",
   "metadata": {},
   "source": [
    "We can see that the temperature data is somewhat discrete, and only measured to two significant figures:"
   ]
  },
  {
   "cell_type": "code",
   "execution_count": 30,
   "metadata": {},
   "outputs": [
    {
     "name": "stdout",
     "output_type": "stream",
     "text": [
      "[2.1 1.8 3.4 2.2 2.8 2.9 2.4 1.6 2.9 1.2]\n"
     ]
    }
   ],
   "source": [
    "print(T_test[0:10])"
   ]
  },
  {
   "cell_type": "markdown",
   "metadata": {},
   "source": [
    "We'll define our critical temperature, at which the phase transition takes place, at 2.27 (in some units).  Then we can label each image with a 1 or a 0 based on whether the associated temperature is above or below that critical temperature:"
   ]
  },
  {
   "cell_type": "code",
   "execution_count": 31,
   "metadata": {},
   "outputs": [],
   "source": [
    "Tc = 2.27\n",
    "y_train, y_test = T_train > Tc, T_test > Tc\n",
    "y_train = np.multiply(y_train,1)\n",
    "y_test = np.multiply(y_test,1)"
   ]
  },
  {
   "cell_type": "markdown",
   "metadata": {},
   "source": [
    "## Training a Fully Connected Net"
   ]
  },
  {
   "cell_type": "markdown",
   "metadata": {},
   "source": [
    "We'll start by passing the full image into a fully-connected neural network.  To do this, we need to reformat the image from a 2D array of 32x32 pixels into a 1D array of (32\\*32=1024) pixels.  (Technically, we have a 3D array of dimensions [n_events, width, height] that we want to transform into [n_events, width\\*height].)  The \"y\" labels are just a single number corresponding to whether the system is above the critical temperature or not."
   ]
  },
  {
   "cell_type": "code",
   "execution_count": 32,
   "metadata": {},
   "outputs": [],
   "source": [
    "x_train=np.reshape(x_train,(n_train,32*32))\n",
    "x_test=np.reshape(x_test,(n_test,32*32))\n",
    "y_train=np.reshape(y_train,(n_train,1))\n",
    "y_test=np.reshape(y_test,(n_test,1))"
   ]
  },
  {
   "cell_type": "markdown",
   "metadata": {},
   "source": [
    "Now we construct a fully-connected network like normal, with 32\\*32 input features, two hidden layers with 32 nodes each, and an output layer with a single node, which will tell us whether the network thinks a phase transition has already occurred for a given image:"
   ]
  },
  {
   "cell_type": "code",
   "execution_count": 33,
   "metadata": {},
   "outputs": [
    {
     "name": "stdout",
     "output_type": "stream",
     "text": [
      "Sequential(\n",
      "  (0): Linear(in_features=1024, out_features=32, bias=True)\n",
      "  (1): ReLU()\n",
      "  (2): Linear(in_features=32, out_features=32, bias=True)\n",
      "  (3): ReLU()\n",
      "  (4): Linear(in_features=32, out_features=1, bias=True)\n",
      ")\n"
     ]
    },
    {
     "data": {
      "text/plain": [
       "33889"
      ]
     },
     "execution_count": 33,
     "metadata": {},
     "output_type": "execute_result"
    }
   ],
   "source": [
    "torch.manual_seed(123)\n",
    "net = torch.nn.Sequential(\n",
    "    torch.nn.Linear(32*32, 32),\n",
    "    torch.nn.ReLU(),\n",
    "    torch.nn.Linear(32, 32),\n",
    "    torch.nn.ReLU(),\n",
    "    torch.nn.Linear(32, 1)\n",
    ")\n",
    "print(net)\n",
    "np.sum([np.prod(theta.shape) for theta in net.parameters()])"
   ]
  },
  {
   "cell_type": "markdown",
   "metadata": {},
   "source": [
    "The network has 34k free parameters.  This is a binary classification problem, so we use the Binary Cross Entropy (BCE) loss function, along with a sigmoid activation function, which is all wrapped up in the `BCEWithLogitsLoss` loss function:"
   ]
  },
  {
   "cell_type": "code",
   "execution_count": 34,
   "metadata": {},
   "outputs": [],
   "source": [
    "loss_fn = torch.nn.BCEWithLogitsLoss()"
   ]
  },
  {
   "cell_type": "markdown",
   "metadata": {},
   "source": [
    "We'll now do the usual training.  We use the `Adam` optimizer, and 5 batches.  Note that with 20k training samples, using 5 batches means 4k events per batch, which is a lot when running on a CPU.  So this could certainly be optimized!\n",
    "\n",
    "We'll also keep track of how long each epoch takes as we go through the training, just to have a sense for how long it takes to train this model."
   ]
  },
  {
   "cell_type": "code",
   "execution_count": 10,
   "metadata": {},
   "outputs": [
    {
     "name": "stdout",
     "output_type": "stream",
     "text": [
      "Completed epoch  0 in  0.3s, Train loss=5.1e-01, Test loss=4.8e-01\n",
      "Completed epoch  1 in  0.2s, Train loss=4.9e-01, Test loss=6.9e-01\n",
      "Completed epoch  2 in  0.2s, Train loss=5.6e-01, Test loss=4.5e-01\n",
      "Completed epoch  3 in  0.2s, Train loss=3.3e-01, Test loss=3.0e-01\n",
      "Completed epoch  4 in  0.2s, Train loss=2.4e-01, Test loss=2.3e-01\n",
      "Completed epoch  5 in  0.2s, Train loss=1.6e-01, Test loss=1.5e-01\n",
      "Completed epoch  6 in  0.2s, Train loss=1.1e-01, Test loss=1.1e-01\n",
      "Completed epoch  7 in  0.2s, Train loss=9.1e-02, Test loss=9.0e-02\n",
      "Completed epoch  8 in  0.2s, Train loss=9.3e-02, Test loss=8.5e-02\n",
      "Completed epoch  9 in  0.2s, Train loss=8.8e-02, Test loss=8.6e-02\n",
      "Completed epoch 10 in  0.2s, Train loss=7.5e-02, Test loss=8.3e-02\n",
      "Completed epoch 11 in  0.2s, Train loss=7.0e-02, Test loss=8.2e-02\n",
      "Completed epoch 12 in  0.2s, Train loss=6.1e-02, Test loss=8.1e-02\n",
      "Completed epoch 13 in  0.2s, Train loss=6.4e-02, Test loss=8.1e-02\n",
      "Completed epoch 14 in  0.2s, Train loss=6.0e-02, Test loss=8.0e-02\n",
      "Completed epoch 15 in  0.2s, Train loss=5.9e-02, Test loss=8.0e-02\n",
      "Completed epoch 16 in  0.2s, Train loss=5.5e-02, Test loss=7.8e-02\n",
      "Completed epoch 17 in  0.2s, Train loss=5.2e-02, Test loss=7.9e-02\n",
      "Completed epoch 18 in  0.2s, Train loss=4.5e-02, Test loss=8.2e-02\n",
      "Completed epoch 19 in  0.2s, Train loss=5.9e-02, Test loss=8.6e-02\n"
     ]
    }
   ],
   "source": [
    "net.train()\n",
    "optimizer = torch.optim.Adam(net.parameters(), lr=0.01)\n",
    "losses = []\n",
    "losses_test = []\n",
    "\n",
    "x_train_tensor=torch.tensor(x_train)\n",
    "y_train_tensor=torch.tensor(y_train,dtype=torch.float)\n",
    "xy_train = torch.utils.data.TensorDataset(x_train_tensor.float(),y_train_tensor)\n",
    "loader = torch.utils.data.DataLoader(xy_train, batch_size=int(len(x_train)/5), shuffle=True)\n",
    "\n",
    "x_test_tensor=torch.tensor(x_test,dtype=torch.float)\n",
    "y_test_tensor=torch.tensor(y_test,dtype=torch.float)\n",
    "\n",
    "for epoch in range(20):\n",
    "    start_time = time.time()\n",
    "    for x_batch, y_batch in loader:\n",
    "        y_pred = net(x_batch)\n",
    "        optimizer.zero_grad()\n",
    "        loss = loss_fn(y_pred, y_batch)\n",
    "        loss.backward()\n",
    "        optimizer.step()\n",
    "    losses.append(loss.data)\n",
    "    net.eval() # configure the model for evaluation (testing)\n",
    "    y_pred = net(x_test_tensor)\n",
    "    test_loss=loss_fn(y_pred, y_test_tensor)\n",
    "    losses_test.append(test_loss.data)\n",
    "    end_time=time.time()\n",
    "    elapsed_time = end_time - start_time\n",
    "    print(\"Completed epoch %2d in %4.1fs, Train loss=%4.1e, Test loss=%4.1e\" % (epoch, elapsed_time, loss.data, test_loss.data))"
   ]
  },
  {
   "cell_type": "markdown",
   "metadata": {},
   "source": [
    "Let's take a look at the loss function and see how well the training went:"
   ]
  },
  {
   "cell_type": "code",
   "execution_count": 11,
   "metadata": {},
   "outputs": [
    {
     "data": {
      "image/png": "[encoded data removed]",
      "text/plain": [
       "<Figure size 432x288 with 1 Axes>"
      ]
     },
     "metadata": {
      "needs_background": "light"
     },
     "output_type": "display_data"
    }
   ],
   "source": [
    "plt.plot(losses, '.', label=\"Train\")\n",
    "plt.plot(losses_test, '.', label=\"Test\")\n",
    "plt.legend()\n",
    "plt.xlabel('Training Epoch')\n",
    "plt.ylabel('Cross Entropy Loss')\n",
    "plt.yscale('log');"
   ]
  },
  {
   "cell_type": "markdown",
   "metadata": {},
   "source": [
    "Pretty good!  We converged on a good configuration within about 5 epochs, with a minimum of the loss function around 9e-2.  \n",
    "\n",
    "It would also be interesting to evaluate the performance of the net in terms of the accuracy of the predictions:"
   ]
  },
  {
   "cell_type": "code",
   "execution_count": 12,
   "metadata": {},
   "outputs": [
    {
     "data": {
      "text/plain": [
       "<matplotlib.lines.Line2D at 0x1a21b62f10>"
      ]
     },
     "execution_count": 12,
     "metadata": {},
     "output_type": "execute_result"
    },
    {
     "data": {
      "image/png": "[encoded data removed]",
      "text/plain": [
       "<Figure size 432x288 with 1 Axes>"
      ]
     },
     "metadata": {
      "needs_background": "light"
     },
     "output_type": "display_data"
    }
   ],
   "source": [
    "y_pred = torch.sigmoid(net(x_test_tensor).detach()).round().tolist()\n",
    "acc = (y_pred == y_test).astype(np.float)\n",
    "\n",
    "ax = sns.regplot(x=T_test, y=acc, x_estimator= np.mean, fit_reg=False)\n",
    "ax.set_ylabel(\"accuracy\")\n",
    "ax.set_xlabel(\"T\")\n",
    "plt.axvline(x=Tc, color='k', linestyle='--', label='Tc')"
   ]
  },
  {
   "cell_type": "markdown",
   "metadata": {},
   "source": [
    "We see that the classifier has an easy time with samples well below or well above the critical temperature, and dips down to around 60\\% accuracy right at the critical temperature."
   ]
  },
  {
   "cell_type": "markdown",
   "metadata": {},
   "source": [
    "## Using a Convolutional Neural Net\n",
    "\n",
    "Now let's do this with a convolutional neural net (CNN), where we pass in the image as a 2D array, and use convolutional filters to pick out features of the images."
   ]
  },
  {
   "cell_type": "markdown",
   "metadata": {},
   "source": [
    "We'll implement a standard CNN for classification.  This involves some convolutional layers, which then feed into a fully connected network that does the final classification at the end.  Since we have this mixed structure, we can't just implement this in pytorch's `Sequential` module like we normally do, since we'll need to \"flatten\" the data from a multi-dimensional structure coming out of the CNN into a lower-dimensional structure for processing by the fully connected network.  So we make use of pytorch's `Module` base class to implement our own type of network."
   ]
  },
  {
   "cell_type": "code",
   "execution_count": 35,
   "metadata": {},
   "outputs": [],
   "source": [
    "torch.manual_seed(123)\n",
    "class Net(torch.nn.Module):\n",
    "    def __init__(self, conv_layer_size=16, linear_layer_size=32):\n",
    "        super(Net, self).__init__()\n",
    "\n",
    "        lls=linear_layer_size\n",
    "        cls=conv_layer_size\n",
    "        \n",
    "        # two convolutional layers\n",
    "        self.conv1 = torch.nn.Conv2d(  1, cls, kernel_size=3, padding=1)\n",
    "        self.conv2 = torch.nn.Conv2d(cls, lls, kernel_size=3, padding=1)\n",
    "\n",
    "        # fully connected layer\n",
    "        self.fc1 = torch.nn.Linear(lls, 1)\n",
    "\n",
    "    # x represents our data\n",
    "    def forward(self, x):\n",
    "        x = self.conv1(x)\n",
    "        x = F.relu(x)\n",
    "\n",
    "        # if we wanted to add another layer before pooling, we could do that here.\n",
    "\n",
    "        # Run max pooling over x\n",
    "        x = F.max_pool2d(x, 2)\n",
    "        \n",
    "        # we could also do some dropout here if we wanted\n",
    "\n",
    "        x = self.conv2(x)\n",
    "        x = F.relu(x)\n",
    "\n",
    "        # perhaps we want another layer here?\n",
    "\n",
    "        # the (1,1) makes this into global average pooling\n",
    "        x = F.adaptive_avg_pool2d(x,(1,1))\n",
    "    \n",
    "        # Flatten x with start_dim=1, i.e. only keep one number per channel per event.\n",
    "        # This one line kept me up into the wee hours the other night!\n",
    "        x=torch.flatten(x,1)\n",
    "      \n",
    "        # Pass data through the fully connected layer.\n",
    "        x = self.fc1(x)\n",
    "\n",
    "        return x"
   ]
  },
  {
   "cell_type": "markdown",
   "metadata": {},
   "source": [
    "We see above that after the first convolutional layer, we do a \"max repooling\" to reduce the size of the feature map that's passed in as the input to the second convolutional layer.  \n",
    "\n",
    "After the second convolutional layer, we do a \"global average pooling\", which reduces all the pixels in each channel of the current feature map into a single number (the average).  Note that the original input image had a single channel (gray, no rgb) but the first convolutional layer includes a number of filters, where each filter creates a new channel in the output feature map.  So by the end of the convolutional layers, we have transformed our `[1, 32, 32]` inputs into `[lls, 16, 16]` inputs, where `lls` represents the number of inputs to the fully connected network after the convolutional layers.  (Why 16?)  The global average pooling then takes that `[lls, 16, 16]` output and transforms it into `[lls, 1, 1]`.\n",
    "\n",
    "The flattening step takes the `[lls, 1, 1]` tensor in the output feature map into a list with dimension `[lls]`."
   ]
  },
  {
   "cell_type": "markdown",
   "metadata": {},
   "source": [
    "Now we can prepare our data to pass into this network.  The tensors we extract from the input data have dimensions `[nevents, width, height]`, while pytorch CNN's expect tensors with dimensions `[nevents, channels, width, height]`.  In our case we only have a single channel, but we still need to indicate that as a separate dimension in the tensor.  We'll do that using the `unsqueeze` operation, where we add in a dimension of unit length at the specified index of the tensor dimensions."
   ]
  },
  {
   "cell_type": "code",
   "execution_count": 14,
   "metadata": {},
   "outputs": [],
   "source": [
    "x_train, x_test = f[\"C\"][:n_train], f[\"C\"][n_train:]\n",
    "T_train, T_test = f[\"T\"][:n_train], f[\"T\"][n_train:]\n",
    "\n",
    "x_train_tensor=torch.tensor(x_train,dtype=torch.float)\n",
    "x_train_tensor=x_train_tensor.unsqueeze(1)\n",
    "y_train_tensor=torch.tensor(y_train,dtype=torch.float)\n",
    "\n",
    "x_test_tensor=torch.tensor(x_test,dtype=torch.float)\n",
    "x_test_tensor=x_test_tensor.unsqueeze(1)\n",
    "y_test_tensor=torch.tensor(y_test,dtype=torch.float)\n",
    "\n",
    "xy_train = torch.utils.data.TensorDataset(x_train_tensor.float(),y_train_tensor)"
   ]
  },
  {
   "cell_type": "markdown",
   "metadata": {},
   "source": [
    "We can now construct our network, and check how many parameters are in this network.  Let's make the first convolutional layer a 2-stage filter, while the second one will have 16 filters to give us plenty of inputs for our fully connected network. "
   ]
  },
  {
   "cell_type": "code",
   "execution_count": 24,
   "metadata": {},
   "outputs": [
    {
     "name": "stdout",
     "output_type": "stream",
     "text": [
      "16 2\n",
      "Net(\n",
      "  (conv1): Conv2d(1, 2, kernel_size=(3, 3), stride=(1, 1), padding=(1, 1))\n",
      "  (conv2): Conv2d(2, 16, kernel_size=(3, 3), stride=(1, 1), padding=(1, 1))\n",
      "  (fc1): Linear(in_features=16, out_features=1, bias=True)\n",
      ")\n",
      "341\n"
     ]
    }
   ],
   "source": [
    "net = Net(2,16)\n",
    "print(net)\n",
    "print(np.sum([np.prod(theta.shape) for theta in net.parameters()]))"
   ]
  },
  {
   "cell_type": "markdown",
   "metadata": {},
   "source": [
    "Now we'll train our network, keeping the same hyperparameters as with the fully-connected network above, but now using the new network architecture."
   ]
  },
  {
   "cell_type": "code",
   "execution_count": 16,
   "metadata": {},
   "outputs": [
    {
     "name": "stdout",
     "output_type": "stream",
     "text": [
      "Completed epoch  0 in  4.2s, Train loss=6.7e-01, Test loss=6.7e-01\n",
      "Completed epoch  1 in  3.2s, Train loss=6.0e-01, Test loss=5.9e-01\n",
      "Completed epoch  2 in  3.0s, Train loss=5.0e-01, Test loss=4.6e-01\n",
      "Completed epoch  3 in  3.2s, Train loss=3.6e-01, Test loss=3.3e-01\n",
      "Completed epoch  4 in  3.0s, Train loss=2.7e-01, Test loss=2.4e-01\n",
      "Completed epoch  5 in  3.0s, Train loss=2.2e-01, Test loss=2.0e-01\n",
      "Completed epoch  6 in  3.2s, Train loss=1.7e-01, Test loss=1.6e-01\n",
      "Completed epoch  7 in  3.1s, Train loss=1.4e-01, Test loss=1.3e-01\n",
      "Completed epoch  8 in  3.0s, Train loss=1.2e-01, Test loss=1.1e-01\n",
      "Completed epoch  9 in  3.0s, Train loss=1.0e-01, Test loss=9.5e-02\n",
      "Completed epoch 10 in  3.2s, Train loss=8.9e-02, Test loss=8.2e-02\n",
      "Completed epoch 11 in  3.1s, Train loss=8.1e-02, Test loss=7.2e-02\n",
      "Completed epoch 12 in  3.0s, Train loss=7.1e-02, Test loss=6.4e-02\n",
      "Completed epoch 13 in  3.0s, Train loss=6.9e-02, Test loss=5.9e-02\n",
      "Completed epoch 14 in  3.0s, Train loss=6.3e-02, Test loss=5.4e-02\n",
      "Completed epoch 15 in  3.0s, Train loss=5.0e-02, Test loss=5.0e-02\n",
      "Completed epoch 16 in  3.0s, Train loss=5.6e-02, Test loss=4.9e-02\n",
      "Completed epoch 17 in  3.0s, Train loss=5.3e-02, Test loss=4.6e-02\n",
      "Completed epoch 18 in  3.0s, Train loss=5.0e-02, Test loss=4.4e-02\n",
      "Completed epoch 19 in  3.0s, Train loss=4.6e-02, Test loss=4.4e-02\n"
     ]
    }
   ],
   "source": [
    "net.train()\n",
    "optimizer = torch.optim.Adam(net.parameters(), lr=0.01)\n",
    "losses = []\n",
    "losses_test = []\n",
    "\n",
    "loader = torch.utils.data.DataLoader(xy_train, batch_size=int(len(x_train)/5), shuffle=True)\n",
    "\n",
    "for epoch in range(20):\n",
    "    start_time = time.time()\n",
    "    for x_batch, y_batch in loader:\n",
    "        y_pred = net(x_batch)\n",
    "        optimizer.zero_grad()\n",
    "        loss = loss_fn(y_pred, y_batch)\n",
    "        loss.backward()\n",
    "        optimizer.step()\n",
    "    losses.append(loss.data)\n",
    "    net.eval() # configure the model for evaluation (testing)\n",
    "    y_pred = net(x_test_tensor)\n",
    "    test_loss=loss_fn(y_pred, y_test_tensor)\n",
    "    losses_test.append(test_loss.data)\n",
    "    end_time=time.time()\n",
    "    elapsed_time = end_time - start_time\n",
    "    print(\"Completed epoch %2d in %4.1fs, Train loss=%4.1e, Test loss=%4.1e\" % (epoch, elapsed_time, loss.data, test_loss.data))"
   ]
  },
  {
   "cell_type": "markdown",
   "metadata": {},
   "source": [
    "Woah, why is this so slow?  With our fully-connected model using 33889 parameters, we saw much shorter training times.  The CNN is much longer, even though we have x100 fewer parameters.  What happened?\n",
    "\n",
    "The process of convolving the input with the filter is actually quite computationally expensive, since computing each cell of the feature layer requires iterating over a neighborhood of cells in the input.  \n",
    "\n",
    "We can compute the number of multiplication operations in the first convolution layer as:\n",
    "* 1 x 2 = number of operations for all the channels (input channels * output channels)\n",
    "* 32 x 32 = number of convolution operation per channel (image size)\n",
    "* 3 x 3 = number of multiplications per convolution (kernel size)\n",
    "    \n",
    "The total is then (1x2)x(32x32)x(3x3)=18432 operations.  For the second convolutional layer it's (2x16)x(16x16)x(3x3)=73728 operations.  Finally, the fully connected layer at the end corresponds to 16x1=16 operations.  So the total is around 100k multiplication operations.  (This is ignoring the the bias terms, so these numbers aren't exact.)\n",
    "\n",
    "For the fully-connected MLP at the beginning, we used 1024 inputs, two hidden layers of 32 nodes, and a single output node.  So that's 1024x32 + 32x32 + 32x1 = 33824, or around 34k multiplication operations.\n",
    "\n",
    "So just from the number of multiplication operations we expect the fully-connected MLP to be around x3 faster than the CNN, despite having significantly fewer parameters.  Additional overhead from pooling and flattening further increases the run time of the CNN.  Finally, the multiplication operations for the MLP are all performed using matrix algebra, and there are libraries that make such operations extremely fast to compute using modern computer architectures.  The kernel-based convolution is more of an elementwise-matrix-multiplication that is not the same as a pure matrix multiplication, and hence is not as optimized.  "
   ]
  },
  {
   "cell_type": "code",
   "execution_count": 17,
   "metadata": {},
   "outputs": [
    {
     "data": {
      "image/png": "[encoded data removed]",
      "text/plain": [
       "<Figure size 432x288 with 1 Axes>"
      ]
     },
     "metadata": {
      "needs_background": "light"
     },
     "output_type": "display_data"
    }
   ],
   "source": [
    "plt.plot(losses, '.', label=\"Train\")\n",
    "plt.plot(losses_test, '.', label=\"Test\")\n",
    "plt.legend()\n",
    "plt.xlabel('Training Epoch')\n",
    "plt.ylabel('Cross Entropy Loss')\n",
    "plt.yscale('log');"
   ]
  },
  {
   "cell_type": "code",
   "execution_count": 18,
   "metadata": {},
   "outputs": [
    {
     "data": {
      "text/plain": [
       "<matplotlib.lines.Line2D at 0x1a4cc440d0>"
      ]
     },
     "execution_count": 18,
     "metadata": {},
     "output_type": "execute_result"
    },
    {
     "data": {
      "image/png": "[encoded data removed]",
      "text/plain": [
       "<Figure size 432x288 with 1 Axes>"
      ]
     },
     "metadata": {
      "needs_background": "light"
     },
     "output_type": "display_data"
    }
   ],
   "source": [
    "y_pred = torch.sigmoid(net(x_test_tensor).detach()).round().tolist()\n",
    "acc = (y_pred == y_test).astype(np.float)\n",
    "\n",
    "ax = sns.regplot(x=T_test, y=acc, x_estimator= np.mean, fit_reg=False)\n",
    "ax.set_ylabel(\"accuracy\")\n",
    "ax.set_xlabel(\"T\")\n",
    "plt.axvline(x=Tc, color='k', linestyle='--', label='Tc')"
   ]
  },
  {
   "cell_type": "markdown",
   "metadata": {},
   "source": [
    "**Exercise**: add in another convolutional layer and re-run.  How does it impact the loss function or accuracy of the predictions?  How does it impact the training times?"
   ]
  },
  {
   "cell_type": "markdown",
   "metadata": {},
   "source": [
    "**Exercise**: modify the code above (or copy/modify it below) to predict the temperature rather than a classification label.  "
   ]
  },
  {
   "cell_type": "markdown",
   "metadata": {},
   "source": [
    "## Hardware Accelerators\n",
    "\n",
    "The model above implements a network that only has two convolutional layers.  What if we wanted to add more: 4, or 8, or >10?  What if we wanted to increase the number of feature map channels to >100?  The training times will start to explode, even on the fast CPU that I'm using for lecture today.  At that point we need to use different hardware if we want to get results in a reasonable amount of time.\n",
    "\n",
    "The most common way to accelerate training times is to use Graphical Processing Units (GPUs).  GPUs are designed to render graphics on screens, and thus perform many (hundreds, thousands) computations in parallel, while CPU's excel in performing fast calculations sequentially.  Since fast matrix algebra is all about parallelization, using a GPU to train a NN can significantly decrease training times.\n",
    "\n",
    "I happen to have a pretty-good GPU in a machine in my office:"
   ]
  },
  {
   "cell_type": "code",
   "execution_count": 19,
   "metadata": {},
   "outputs": [
    {
     "name": "stdout",
     "output_type": "stream",
     "text": [
      "cpu\n"
     ]
    }
   ],
   "source": [
    "torch.cuda.is_available()\n",
    "device = torch.device(\"cuda:0\" if torch.cuda.is_available() else \"cpu\")\n",
    "print(device)"
   ]
  },
  {
   "cell_type": "markdown",
   "metadata": {},
   "source": [
    "Let's use our GPU to re-train the network above, and see how it affects training times:"
   ]
  },
  {
   "cell_type": "code",
   "execution_count": 20,
   "metadata": {},
   "outputs": [],
   "source": [
    "if torch.cuda.is_available():\n",
    "    net = Net(2,16)\n",
    "    print(net)\n",
    "    print(np.sum([np.prod(theta.shape) for theta in net.parameters()]))\n",
    "\n",
    "    net.train()\n",
    "    optimizer = torch.optim.Adam(net.parameters(), lr=0.01)\n",
    "    losses = []\n",
    "    losses_test = []\n",
    "\n",
    "    # we need to send the network and data to the GPU!\n",
    "    net.to(device)\n",
    "    x_train_tensor=x_train_tensor.to(device)\n",
    "    y_train_tensor=y_train_tensor.to(device)\n",
    "    x_test_tensor=x_test_tensor.to(device)\n",
    "    y_test_tensor=y_test_tensor.to(device)\n",
    "\n",
    "    # recreate the TensorDataset and Loader with the data on the GPU\n",
    "    xy_train = torch.utils.data.TensorDataset(x_train_tensor,y_train_tensor)\n",
    "    loader = torch.utils.data.DataLoader(xy_train, batch_size=int(len(x_train)/5), shuffle=True)\n",
    "\n",
    "    for epoch in range(20):\n",
    "        start_time = time.time()\n",
    "        for x_batch, y_batch in loader:\n",
    "            y_pred = net(x_batch)\n",
    "            optimizer.zero_grad()\n",
    "            loss = loss_fn(y_pred, y_batch)\n",
    "            loss.backward()\n",
    "            optimizer.step()\n",
    "        losses.append(loss.data)\n",
    "        net.eval() # configure the model for evaluation (testing)\n",
    "        y_pred = net(x_test_tensor)\n",
    "        test_loss=loss_fn(y_pred, y_test_tensor)\n",
    "        losses_test.append(test_loss.data)\n",
    "        end_time=time.time()\n",
    "        elapsed_time = end_time - start_time\n",
    "        print(\"Completed epoch %2d in %4.2fs, Train loss=%4.1e, Test loss=%4.1e\" % (epoch, elapsed_time, loss.data, test_loss.data))"
   ]
  },
  {
   "cell_type": "markdown",
   "metadata": {},
   "source": [
    "The training times dropped significantly!  Just to make sure it's learning something real, let's confirm by checking the loss and accuracy again:"
   ]
  },
  {
   "cell_type": "code",
   "execution_count": 21,
   "metadata": {},
   "outputs": [
    {
     "data": {
      "image/png": "[encoded data removed]",
      "text/plain": [
       "<Figure size 432x288 with 1 Axes>"
      ]
     },
     "metadata": {
      "needs_background": "light"
     },
     "output_type": "display_data"
    }
   ],
   "source": [
    "plt.plot(losses, '.', label=\"Train\")\n",
    "plt.plot(losses_test, '.', label=\"Test\")\n",
    "plt.legend()\n",
    "plt.xlabel('Training Epoch')\n",
    "plt.ylabel('Cross Entropy Loss')\n",
    "plt.yscale('log');"
   ]
  },
  {
   "cell_type": "code",
   "execution_count": 22,
   "metadata": {},
   "outputs": [
    {
     "data": {
      "text/plain": [
       "<matplotlib.lines.Line2D at 0x1a5d1eb190>"
      ]
     },
     "execution_count": 22,
     "metadata": {},
     "output_type": "execute_result"
    },
    {
     "data": {
      "image/png": "[encoded data removed]",
      "text/plain": [
       "<Figure size 432x288 with 1 Axes>"
      ]
     },
     "metadata": {
      "needs_background": "light"
     },
     "output_type": "display_data"
    }
   ],
   "source": [
    "y_pred = torch.sigmoid(net(x_test_tensor).detach()).round().tolist()\n",
    "acc = (y_pred == y_test).astype(np.float)\n",
    "\n",
    "ax = sns.regplot(x=T_test, y=acc, x_estimator= np.mean, fit_reg=False)\n",
    "ax.set_ylabel(\"accuracy\")\n",
    "ax.set_xlabel(\"T\")\n",
    "plt.axvline(x=Tc, color='k', linestyle='--', label='Tc')"
   ]
  },
  {
   "cell_type": "code",
   "execution_count": null,
   "metadata": {},
   "outputs": [],
   "source": []
  }
 ],
 "metadata": {
  "kernelspec": {
   "display_name": "Python 3",
   "language": "python",
   "name": "python3"
  },
  "language_info": {
   "codemirror_mode": {
    "name": "ipython",
    "version": 3
   },
   "file_extension": ".py",
   "mimetype": "text/x-python",
   "name": "python",
   "nbconvert_exporter": "python",
   "pygments_lexer": "ipython3",
   "version": "3.7.6"
  }
 },
 "nbformat": 4,
 "nbformat_minor": 5
}
